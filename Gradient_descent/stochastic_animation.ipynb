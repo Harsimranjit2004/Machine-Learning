{
 "cells": [
  {
   "cell_type": "code",
   "execution_count": 2,
   "metadata": {},
   "outputs": [],
   "source": [
    "from sklearn.datasets import make_regression\n",
    "from sklearn.linear_model import LinearRegression\n",
    "\n",
    "import numpy as np\n",
    "import matplotlib.pyplot as plt \n",
    "\n"
   ]
  },
  {
   "cell_type": "code",
   "execution_count": 3,
   "metadata": {},
   "outputs": [],
   "source": [
    "\n",
    "from matplotlib.animation import FuncAnimation\n",
    "import matplotlib.animation as animation\n"
   ]
  },
  {
   "cell_type": "code",
   "execution_count": 4,
   "metadata": {},
   "outputs": [],
   "source": [
    "X,y = make_regression(n_samples=100, n_features=1,n_informative=1,n_targets=1,noise=30,random_state=13)"
   ]
  },
  {
   "cell_type": "code",
   "execution_count": 5,
   "metadata": {},
   "outputs": [],
   "source": [
    "plt.scatter(X,y)\n",
    "plt.show()"
   ]
  },
  {
   "cell_type": "code",
   "execution_count": 6,
   "metadata": {},
   "outputs": [
    {
     "name": "stdout",
     "output_type": "stream",
     "text": [
      "[27.9379823]\n",
      "-3.4421168380154685\n"
     ]
    }
   ],
   "source": [
    "lr = LinearRegression()\n",
    "lr.fit(X,y)\n",
    "print(lr.coef_)\n",
    "print(lr.intercept_)"
   ]
  },
  {
   "cell_type": "code",
   "execution_count": 7,
   "metadata": {},
   "outputs": [
    {
     "name": "stdout",
     "output_type": "stream",
     "text": [
      "Total time taken 0.007439136505126953\n"
     ]
    }
   ],
   "source": [
    "import time\n",
    "\n",
    "b = 150\n",
    "m = -127.82\n",
    "all_b = []\n",
    "all_m = []\n",
    "all_cost = []\n",
    "all_lr = []\n",
    "\n",
    "epochs = 1\n",
    "\n",
    "start = time.time()\n",
    "\n",
    "t0,t1 = 5,50\n",
    "def learning_rate(t):\n",
    "    return t0/(t+t1)\n",
    "\n",
    "for i in range(epochs):\n",
    "    for j in range(X.shape[0]):\n",
    "        \n",
    "        lr = learning_rate(i*X.shape[0]+j)\n",
    "        idx = np.random.randint(X.shape[0],size=1)\n",
    "\n",
    "        slope_b = -2 * (y[idx] - (m* X[idx])-b)\n",
    "        slope_m = -2 * (y[idx] - (m * X[idx]) -b) * X[idx]\n",
    "        cost = (y[idx] -m * X[idx] -b) **2\n",
    "\n",
    "        b = b -(lr * slope_b)\n",
    "        m = m - (lr * slope_m)\n",
    "        all_b.append(b)\n",
    "        all_m.append(m)\n",
    "        all_cost.append(cost)\n",
    "        all_lr.append(lr)\n",
    "\n",
    "print(\"Total time taken\",time.time() -start)"
   ]
  },
  {
   "cell_type": "code",
   "execution_count": 8,
   "metadata": {},
   "outputs": [
    {
     "data": {
      "text/plain": [
       "100"
      ]
     },
     "execution_count": 8,
     "metadata": {},
     "output_type": "execute_result"
    }
   ],
   "source": [
    "len(all_cost)"
   ]
  },
  {
   "cell_type": "code",
   "execution_count": 9,
   "metadata": {},
   "outputs": [],
   "source": [
    "# fig, ax = plt.subplot(figsize=(9,5))\n",
    "\n",
    "# x_i = np.arange(-3,3,0.1)\n",
    "# y_i  = x_i * (-27) -150\n",
    "\n",
    "# ax.scatter(X,y)\n",
    "# line,  = ax.plot(x_i,x_i*50-4,'r-',linewidth = 2)\n",
    "\n",
    "# def update(i):\n",
    "#     label = 'epoch {0}'.format(i+1)\n",
    "#     line.set_ydata(x_i*all_m[i] + all_b[i])\n",
    "#     ax.set_xlabel(label)\n",
    "\n",
    "# anim = FuncAnimation(fig,update,frames=100,interval=5)\n",
    "\n",
    "# f = r\"stochastic_animatoin_line_plot.gif\"\n",
    "# writergif = animation.PillowWriter(fps=2)\n",
    "# anim.save(f,writer=writergif)\n",
    "fig, ax = plt.subplots(figsize=(9,5))\n",
    "#fig.set_tight_layout(True)\n",
    "\n",
    "x_i = np.arange(-3, 3, 0.1)\n",
    "y_i = x_i*(-27) -150\n",
    "ax.scatter(X, y)\n",
    "line, = ax.plot(x_i, x_i*50 - 4, 'r-', linewidth=2)\n",
    "\n",
    "def update(i):\n",
    "    label = 'epoch {0}'.format(i + 1)\n",
    "    line.set_ydata(x_i*all_m[i] + all_b[i])\n",
    "    ax.set_xlabel(label)\n",
    "    # return line, ax\n",
    "\n",
    "anim = FuncAnimation(fig, update, frames=100, interval=5)\n",
    "\n",
    "f = r\"stochastic_animation_line_plot.gif\" \n",
    "writergif = animation.PillowWriter(fps=2) \n",
    "anim.save(f, writer=writergif)"
   ]
  },
  {
   "cell_type": "code",
   "execution_count": 10,
   "metadata": {},
   "outputs": [],
   "source": [
    "m_arr = np.linspace(-150,150,10)\n",
    "b_arr = np.linspace(-150,150,10)\n",
    "mGrid,bGrid = np.meshgrid(m_arr,b_arr)\n",
    "\n",
    "final = np.vstack((mGrid.ravel().reshape(1,100),bGrid.ravel().reshape(1,100))).T\n",
    "z_arr = []\n",
    "\n",
    "for i in range(final.shape[0]):\n",
    "    z_arr.append(np.sum((y - final[i,0]*X.reshape(100) - final[i,1])**2))\n",
    "\n",
    "z_arr = np.array(z_arr).reshape(10,10)"
   ]
  },
  {
   "cell_type": "code",
   "execution_count": 11,
   "metadata": {},
   "outputs": [
    {
     "name": "stdout",
     "output_type": "stream",
     "text": [
      "Using matplotlib backend: MacOSX\n"
     ]
    },
    {
     "name": "stderr",
     "output_type": "stream",
     "text": [
      "2024-01-23 16:34:39.009 Python[29494:952037] *** Assertion failure in +[NSEvent otherEventWithType:location:modifierFlags:timestamp:windowNumber:context:subtype:data1:data2:], NSEvent.m:648\n",
      "XXX lineno: 676, opcode: 124\n",
      "ERROR:tornado.application:Exception in callback functools.partial(<function Kernel.enter_eventloop.<locals>.advance_eventloop at 0x17ba74b80>)\n",
      "Traceback (most recent call last):\n",
      "  File \"/Users/harsimranjitsingh/Library/Python/3.11/lib/python/site-packages/tornado/ioloop.py\", line 750, in _run_callback\n",
      "    ret = callback()\n",
      "          ^^^^^^^^^^\n",
      "  File \"/Users/harsimranjitsingh/Library/Python/3.11/lib/python/site-packages/ipykernel/kernelbase.py\", line 479, in advance_eventloop\n",
      "    eventloop(self)\n",
      "  File \"/Users/harsimranjitsingh/Library/Python/3.11/lib/python/site-packages/ipykernel/eventloops.py\", line 353, in loop_cocoa\n",
      "    if kernel.shell_stream.flush(limit=1):\n",
      "       ^^^^^^^^^^^^^^^^^^^\n",
      "  File \"/Users/harsimranjitsingh/Library/Python/3.11/lib/python/site-packages/traitlets/traitlets.py\", line 676, in __get__\n",
      "    def __get__(self, obj: HasTraits | None, cls: type[t.Any]) -> Self | G:\n",
      "    \n",
      "SystemError: unknown opcode\n"
     ]
    }
   ],
   "source": [
    "%matplotlib\n",
    "from matplotlib.animation import FuncAnimation\n",
    "import matplotlib.animation as animation\n",
    "\n",
    "#intercept graph\n",
    "\n",
    "num_epoch = list(range(0,30))\n",
    "\n",
    "fig = plt.figure(figsize=(9,5))\n",
    "axis = plt.axes(xlim = (-150,150),ylim = (-150,150))\n",
    "\n",
    "axis.contourf(m_arr,b_arr,z_arr)\n",
    "line, = axis.plot([],[],lw = 2,color = 'white')\n",
    "xdata,ydata = [],[]\n",
    "\n",
    "# animation function\n",
    "\n",
    "def animate(i):\n",
    "    label = 'epoch {0}'.format(i+1)\n",
    "    xdata.append(all_m[i])\n",
    "    ydata.append(all_b[i])\n",
    "    line.set_data(xdata,ydata)\n",
    "    axis.set_xlabel(label)\n",
    "\n",
    "    return line,\n",
    "\n",
    "anim  = animation.FuncAnimation(fig,animate,frames=100,repeat=False,interval=100)\n",
    "fig.show()\n",
    "f = r\"stochastic_animation_contour_plot.gif\" \n",
    "writergif = animation.PillowWriter(fps=2) \n",
    "anim.save(f, writer=writergif)"
   ]
  },
  {
   "cell_type": "code",
   "execution_count": 12,
   "metadata": {},
   "outputs": [
    {
     "data": {
      "text/plain": [
       "array([[-8.30070506]])"
      ]
     },
     "execution_count": 12,
     "metadata": {},
     "output_type": "execute_result"
    }
   ],
   "source": [
    "all_b[-1]"
   ]
  },
  {
   "cell_type": "code",
   "execution_count": 13,
   "metadata": {},
   "outputs": [
    {
     "data": {
      "text/plain": [
       "array([[28.48682565]])"
      ]
     },
     "execution_count": 13,
     "metadata": {},
     "output_type": "execute_result"
    }
   ],
   "source": [
    "all_m[-1]"
   ]
  },
  {
   "cell_type": "code",
<<<<<<< HEAD
   "execution_count": 15,
   "metadata": {},
   "outputs": [
    {
     "ename": "IndexError",
     "evalue": "list index out of range",
     "output_type": "error",
     "traceback": [
      "\u001b[0;31m---------------------------------------------------------------------------\u001b[0m",
      "\u001b[0;31mIndexError\u001b[0m                                Traceback (most recent call last)",
      "\u001b[1;32m/Users/harsimranjitsingh/Desktop/machine_learning/Gradient_descent/stochastic_animation.ipynb Cell 13\u001b[0m line \u001b[0;36m2\n\u001b[1;32m     <a href='vscode-notebook-cell:/Users/harsimranjitsingh/Desktop/machine_learning/Gradient_descent/stochastic_animation.ipynb#X15sZmlsZQ%3D%3D?line=18'>19</a>\u001b[0m f \u001b[39m=\u001b[39m \u001b[39mr\u001b[39m\u001b[39m\"\u001b[39m\u001b[39mstochastic_animation_cost_plot.gif\u001b[39m\u001b[39m\"\u001b[39m \n\u001b[1;32m     <a href='vscode-notebook-cell:/Users/harsimranjitsingh/Desktop/machine_learning/Gradient_descent/stochastic_animation.ipynb#X15sZmlsZQ%3D%3D?line=19'>20</a>\u001b[0m writergif \u001b[39m=\u001b[39m animation\u001b[39m.\u001b[39mPillowWriter(fps\u001b[39m=\u001b[39m\u001b[39m2\u001b[39m) \n\u001b[0;32m---> <a href='vscode-notebook-cell:/Users/harsimranjitsingh/Desktop/machine_learning/Gradient_descent/stochastic_animation.ipynb#X15sZmlsZQ%3D%3D?line=20'>21</a>\u001b[0m anim\u001b[39m.\u001b[39;49msave(f, writer\u001b[39m=\u001b[39;49mwritergif)\n",
      "File \u001b[0;32m/opt/homebrew/lib/python3.11/site-packages/matplotlib/animation.py:1105\u001b[0m, in \u001b[0;36mAnimation.save\u001b[0;34m(self, filename, writer, fps, dpi, codec, bitrate, extra_args, metadata, extra_anim, savefig_kwargs, progress_callback)\u001b[0m\n\u001b[1;32m   1102\u001b[0m \u001b[39mfor\u001b[39;00m data \u001b[39min\u001b[39;00m \u001b[39mzip\u001b[39m(\u001b[39m*\u001b[39m[a\u001b[39m.\u001b[39mnew_saved_frame_seq() \u001b[39mfor\u001b[39;00m a \u001b[39min\u001b[39;00m all_anim]):\n\u001b[1;32m   1103\u001b[0m     \u001b[39mfor\u001b[39;00m anim, d \u001b[39min\u001b[39;00m \u001b[39mzip\u001b[39m(all_anim, data):\n\u001b[1;32m   1104\u001b[0m         \u001b[39m# TODO: See if turning off blit is really necessary\u001b[39;00m\n\u001b[0;32m-> 1105\u001b[0m         anim\u001b[39m.\u001b[39;49m_draw_next_frame(d, blit\u001b[39m=\u001b[39;49m\u001b[39mFalse\u001b[39;49;00m)\n\u001b[1;32m   1106\u001b[0m         \u001b[39mif\u001b[39;00m progress_callback \u001b[39mis\u001b[39;00m \u001b[39mnot\u001b[39;00m \u001b[39mNone\u001b[39;00m:\n\u001b[1;32m   1107\u001b[0m             progress_callback(frame_number, total_frames)\n",
      "File \u001b[0;32m/opt/homebrew/lib/python3.11/site-packages/matplotlib/animation.py:1140\u001b[0m, in \u001b[0;36mAnimation._draw_next_frame\u001b[0;34m(self, framedata, blit)\u001b[0m\n\u001b[1;32m   1136\u001b[0m \u001b[39mdef\u001b[39;00m \u001b[39m_draw_next_frame\u001b[39m(\u001b[39mself\u001b[39m, framedata, blit):\n\u001b[1;32m   1137\u001b[0m     \u001b[39m# Breaks down the drawing of the next frame into steps of pre- and\u001b[39;00m\n\u001b[1;32m   1138\u001b[0m     \u001b[39m# post- draw, as well as the drawing of the frame itself.\u001b[39;00m\n\u001b[1;32m   1139\u001b[0m     \u001b[39mself\u001b[39m\u001b[39m.\u001b[39m_pre_draw(framedata, blit)\n\u001b[0;32m-> 1140\u001b[0m     \u001b[39mself\u001b[39;49m\u001b[39m.\u001b[39;49m_draw_frame(framedata)\n\u001b[1;32m   1141\u001b[0m     \u001b[39mself\u001b[39m\u001b[39m.\u001b[39m_post_draw(framedata, blit)\n",
      "File \u001b[0;32m/opt/homebrew/lib/python3.11/site-packages/matplotlib/animation.py:1768\u001b[0m, in \u001b[0;36mFuncAnimation._draw_frame\u001b[0;34m(self, framedata)\u001b[0m\n\u001b[1;32m   1764\u001b[0m     \u001b[39mself\u001b[39m\u001b[39m.\u001b[39m_save_seq \u001b[39m=\u001b[39m \u001b[39mself\u001b[39m\u001b[39m.\u001b[39m_save_seq[\u001b[39m-\u001b[39m\u001b[39mself\u001b[39m\u001b[39m.\u001b[39m_save_count:]\n\u001b[1;32m   1766\u001b[0m \u001b[39m# Call the func with framedata and args. If blitting is desired,\u001b[39;00m\n\u001b[1;32m   1767\u001b[0m \u001b[39m# func needs to return a sequence of any artists that were modified.\u001b[39;00m\n\u001b[0;32m-> 1768\u001b[0m \u001b[39mself\u001b[39m\u001b[39m.\u001b[39m_drawn_artists \u001b[39m=\u001b[39m \u001b[39mself\u001b[39;49m\u001b[39m.\u001b[39;49m_func(framedata, \u001b[39m*\u001b[39;49m\u001b[39mself\u001b[39;49m\u001b[39m.\u001b[39;49m_args)\n\u001b[1;32m   1770\u001b[0m \u001b[39mif\u001b[39;00m \u001b[39mself\u001b[39m\u001b[39m.\u001b[39m_blit:\n\u001b[1;32m   1772\u001b[0m     err \u001b[39m=\u001b[39m \u001b[39mRuntimeError\u001b[39;00m(\u001b[39m'\u001b[39m\u001b[39mThe animation function must return a sequence \u001b[39m\u001b[39m'\u001b[39m\n\u001b[1;32m   1773\u001b[0m                        \u001b[39m'\u001b[39m\u001b[39mof Artist objects.\u001b[39m\u001b[39m'\u001b[39m)\n",
      "\u001b[1;32m/Users/harsimranjitsingh/Desktop/machine_learning/Gradient_descent/stochastic_animation.ipynb Cell 13\u001b[0m line \u001b[0;36m1\n\u001b[1;32m      <a href='vscode-notebook-cell:/Users/harsimranjitsingh/Desktop/machine_learning/Gradient_descent/stochastic_animation.ipynb#X15sZmlsZQ%3D%3D?line=7'>8</a>\u001b[0m \u001b[39mdef\u001b[39;00m \u001b[39manimate\u001b[39m(i):\n\u001b[1;32m      <a href='vscode-notebook-cell:/Users/harsimranjitsingh/Desktop/machine_learning/Gradient_descent/stochastic_animation.ipynb#X15sZmlsZQ%3D%3D?line=8'>9</a>\u001b[0m     label \u001b[39m=\u001b[39m \u001b[39m'\u001b[39m\u001b[39mepoch \u001b[39m\u001b[39m{0}\u001b[39;00m\u001b[39m'\u001b[39m\u001b[39m.\u001b[39mformat(i\u001b[39m+\u001b[39m\u001b[39m1\u001b[39m)\n\u001b[0;32m---> <a href='vscode-notebook-cell:/Users/harsimranjitsingh/Desktop/machine_learning/Gradient_descent/stochastic_animation.ipynb#X15sZmlsZQ%3D%3D?line=9'>10</a>\u001b[0m     xdata\u001b[39m.\u001b[39mappend(num_epoch[i])\n\u001b[1;32m     <a href='vscode-notebook-cell:/Users/harsimranjitsingh/Desktop/machine_learning/Gradient_descent/stochastic_animation.ipynb#X15sZmlsZQ%3D%3D?line=10'>11</a>\u001b[0m     ydata\u001b[39m.\u001b[39mappend(all_cost[i])\n\u001b[1;32m     <a href='vscode-notebook-cell:/Users/harsimranjitsingh/Desktop/machine_learning/Gradient_descent/stochastic_animation.ipynb#X15sZmlsZQ%3D%3D?line=11'>12</a>\u001b[0m     line\u001b[39m.\u001b[39mset_data(xdata,ydata)\n",
      "\u001b[0;31mIndexError\u001b[0m: list index out of range"
     ]
    }
   ],
=======
   "execution_count": 16,
   "metadata": {},
   "outputs": [],
>>>>>>> 061e34f (Cleaning)
   "source": [
    "num_epochs = list(range(0,100))\n",
    "fig = plt.figure(figsize=(9,5)) \n",
    "axis = plt.axes(xlim =(0, 31), ylim =(0, 175000)) \n",
    "  \n",
    "line, = axis.plot([], [], lw = 2) \n",
    "  \n",
    "xdata, ydata = [], [] \n",
    "  \n",
    "# animation function \n",
    "def animate(i): \n",
    "    label = 'epoch {0}'.format(i + 1)\n",
    "    xdata.append(num_epochs[i]) \n",
    "    ydata.append(all_cost[i]) \n",
    "    line.set_data(xdata, ydata) \n",
    "    axis.set_xlabel(label)\n",
    "      \n",
    "    return line, \n",
    "  \n",
    "# calling the animation function     \n",
    "anim = animation.FuncAnimation(fig, animate, frames = 100,repeat=False, interval = 150)\n",
    "\n",
    "f = r\"stochastic_animation_cost_plot.gif\" \n",
    "writergif = animation.PillowWriter(fps=2) \n",
    "anim.save(f, writer=writergif)"
   ]
  }
 ],
 "metadata": {
  "kernelspec": {
   "display_name": "Python 3",
   "language": "python",
   "name": "python3"
  },
  "language_info": {
   "codemirror_mode": {
    "name": "ipython",
    "version": 3
   },
   "file_extension": ".py",
   "mimetype": "text/x-python",
   "name": "python",
   "nbconvert_exporter": "python",
   "pygments_lexer": "ipython3",
   "version": "3.11.7"
  }
 },
 "nbformat": 4,
 "nbformat_minor": 2
}
