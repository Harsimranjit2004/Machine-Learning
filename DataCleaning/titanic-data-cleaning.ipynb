{
 "cells": [
  {
   "cell_type": "code",
   "execution_count": 1,
   "id": "04387d36",
   "metadata": {
    "_cell_guid": "b1076dfc-b9ad-4769-8c92-a6c4dae69d19",
    "_uuid": "8f2839f25d086af736a60e9eeb907d3b93b6e0e5",
    "execution": {
     "iopub.execute_input": "2024-05-21T21:09:05.546670Z",
     "iopub.status.busy": "2024-05-21T21:09:05.546291Z",
     "iopub.status.idle": "2024-05-21T21:09:06.368925Z",
     "shell.execute_reply": "2024-05-21T21:09:06.367747Z"
    },
    "papermill": {
     "duration": 0.838031,
     "end_time": "2024-05-21T21:09:06.371180",
     "exception": false,
     "start_time": "2024-05-21T21:09:05.533149",
     "status": "completed"
    },
    "tags": []
   },
   "outputs": [
    {
     "name": "stdout",
     "output_type": "stream",
     "text": [
      "/kaggle/input/titanic/train.csv\n",
      "/kaggle/input/titanic/test.csv\n",
      "/kaggle/input/titanic/gender_submission.csv\n",
      "/kaggle/input/d/hsingh956/titanic/train.csv\n",
      "/kaggle/input/d/hsingh956/titanic/test.csv\n"
     ]
    }
   ],
   "source": [
    "# This Python 3 environment comes with many helpful analytics libraries installed\n",
    "# It is defined by the kaggle/python Docker image: https://github.com/kaggle/docker-python\n",
    "# For example, here's several helpful packages to load\n",
    "\n",
    "import numpy as np # linear algebra\n",
    "import pandas as pd # data processing, CSV file I/O (e.g. pd.read_csv)\n",
    "\n",
    "# Input data files are available in the read-only \"../input/\" directory\n",
    "# For example, running this (by clicking run or pressing Shift+Enter) will list all files under the input directory\n",
    "\n",
    "import os\n",
    "for dirname, _, filenames in os.walk('/kaggle/input'):\n",
    "    for filename in filenames:\n",
    "        print(os.path.join(dirname, filename))\n",
    "        \n",
    "\n",
    "\n",
    "# You can write up to 20GB to the current directory (/kaggle/working/) that gets preserved as output when you create a version using \"Save & Run All\" \n",
    "# You can also write temporary files to /kaggle/temp/, but they won't be saved outside of the current session"
   ]
  },
  {
   "cell_type": "code",
   "execution_count": null,
   "id": "73c19083",
   "metadata": {
    "papermill": {
     "duration": 0.010648,
     "end_time": "2024-05-21T21:09:06.392676",
     "exception": false,
     "start_time": "2024-05-21T21:09:06.382028",
     "status": "completed"
    },
    "tags": []
   },
   "outputs": [],
   "source": []
  },
  {
   "cell_type": "markdown",
   "id": "704f59c0",
   "metadata": {
    "papermill": {
     "duration": 0.010523,
     "end_time": "2024-05-21T21:09:06.413842",
     "exception": false,
     "start_time": "2024-05-21T21:09:06.403319",
     "status": "completed"
    },
    "tags": []
   },
   "source": [
    "# # **Importing the libraries**\n"
   ]
  },
  {
   "cell_type": "code",
   "execution_count": 2,
   "id": "f7de1d6a",
   "metadata": {
    "execution": {
     "iopub.execute_input": "2024-05-21T21:09:06.437543Z",
     "iopub.status.busy": "2024-05-21T21:09:06.436574Z",
     "iopub.status.idle": "2024-05-21T21:09:06.441182Z",
     "shell.execute_reply": "2024-05-21T21:09:06.440399Z"
    },
    "papermill": {
     "duration": 0.018086,
     "end_time": "2024-05-21T21:09:06.443323",
     "exception": false,
     "start_time": "2024-05-21T21:09:06.425237",
     "status": "completed"
    },
    "tags": []
   },
   "outputs": [],
   "source": [
    "import numpy as np\n",
    "import pandas as pd\n",
    "import os\n",
    "# # # # pd.set_option('display.max_columns', None)\n",
    "pd.set_option('display.max_rows', 30)\n",
    "# # pd.set_option('display.max_colwidth', None)\n",
    "# pd.set_option('display.width', None)"
   ]
  },
  {
   "cell_type": "code",
   "execution_count": 3,
   "id": "27ee8483",
   "metadata": {
    "execution": {
     "iopub.execute_input": "2024-05-21T21:09:06.466282Z",
     "iopub.status.busy": "2024-05-21T21:09:06.465458Z",
     "iopub.status.idle": "2024-05-21T21:09:06.469915Z",
     "shell.execute_reply": "2024-05-21T21:09:06.468892Z"
    },
    "papermill": {
     "duration": 0.018623,
     "end_time": "2024-05-21T21:09:06.472354",
     "exception": false,
     "start_time": "2024-05-21T21:09:06.453731",
     "status": "completed"
    },
    "tags": []
   },
   "outputs": [],
   "source": [
    "PROJECT_DIR = r\"/kaggle/input/d/hsingh956/titanic/\"\n"
   ]
  },
  {
   "cell_type": "code",
   "execution_count": 4,
   "id": "b1588ab5",
   "metadata": {
    "execution": {
     "iopub.execute_input": "2024-05-21T21:09:06.495574Z",
     "iopub.status.busy": "2024-05-21T21:09:06.495187Z",
     "iopub.status.idle": "2024-05-21T21:09:06.500424Z",
     "shell.execute_reply": "2024-05-21T21:09:06.499276Z"
    },
    "papermill": {
     "duration": 0.018931,
     "end_time": "2024-05-21T21:09:06.502373",
     "exception": false,
     "start_time": "2024-05-21T21:09:06.483442",
     "status": "completed"
    },
    "tags": []
   },
   "outputs": [],
   "source": [
    "def get_data(file_name):\n",
    "    file_name = f\"{file_name}.csv\"\n",
    "    file_path = os.path.join(PROJECT_DIR, file_name)\n",
    "    return pd.read_csv(file_path)"
   ]
  },
  {
   "cell_type": "code",
   "execution_count": 5,
   "id": "ada4b8f6",
   "metadata": {
    "execution": {
     "iopub.execute_input": "2024-05-21T21:09:06.524654Z",
     "iopub.status.busy": "2024-05-21T21:09:06.524304Z",
     "iopub.status.idle": "2024-05-21T21:09:06.574565Z",
     "shell.execute_reply": "2024-05-21T21:09:06.573572Z"
    },
    "papermill": {
     "duration": 0.064141,
     "end_time": "2024-05-21T21:09:06.576934",
     "exception": false,
     "start_time": "2024-05-21T21:09:06.512793",
     "status": "completed"
    },
    "tags": []
   },
   "outputs": [
    {
     "data": {
      "text/html": [
       "<div>\n",
       "<style scoped>\n",
       "    .dataframe tbody tr th:only-of-type {\n",
       "        vertical-align: middle;\n",
       "    }\n",
       "\n",
       "    .dataframe tbody tr th {\n",
       "        vertical-align: top;\n",
       "    }\n",
       "\n",
       "    .dataframe thead th {\n",
       "        text-align: right;\n",
       "    }\n",
       "</style>\n",
       "<table border=\"1\" class=\"dataframe\">\n",
       "  <thead>\n",
       "    <tr style=\"text-align: right;\">\n",
       "      <th></th>\n",
       "      <th>PassengerId</th>\n",
       "      <th>Survived</th>\n",
       "      <th>Pclass</th>\n",
       "      <th>Name</th>\n",
       "      <th>Sex</th>\n",
       "      <th>Age</th>\n",
       "      <th>SibSp</th>\n",
       "      <th>Parch</th>\n",
       "      <th>Ticket</th>\n",
       "      <th>Fare</th>\n",
       "      <th>Cabin</th>\n",
       "      <th>Embarked</th>\n",
       "    </tr>\n",
       "  </thead>\n",
       "  <tbody>\n",
       "    <tr>\n",
       "      <th>0</th>\n",
       "      <td>1</td>\n",
       "      <td>0</td>\n",
       "      <td>3</td>\n",
       "      <td>Braund, Mr. Owen Harris</td>\n",
       "      <td>male</td>\n",
       "      <td>22.0</td>\n",
       "      <td>1</td>\n",
       "      <td>0</td>\n",
       "      <td>A/5 21171</td>\n",
       "      <td>7.2500</td>\n",
       "      <td>NaN</td>\n",
       "      <td>S</td>\n",
       "    </tr>\n",
       "    <tr>\n",
       "      <th>1</th>\n",
       "      <td>2</td>\n",
       "      <td>1</td>\n",
       "      <td>1</td>\n",
       "      <td>Cumings, Mrs. John Bradley (Florence Briggs Th...</td>\n",
       "      <td>female</td>\n",
       "      <td>38.0</td>\n",
       "      <td>1</td>\n",
       "      <td>0</td>\n",
       "      <td>PC 17599</td>\n",
       "      <td>71.2833</td>\n",
       "      <td>C85</td>\n",
       "      <td>C</td>\n",
       "    </tr>\n",
       "    <tr>\n",
       "      <th>2</th>\n",
       "      <td>3</td>\n",
       "      <td>1</td>\n",
       "      <td>3</td>\n",
       "      <td>Heikkinen, Miss. Laina</td>\n",
       "      <td>female</td>\n",
       "      <td>26.0</td>\n",
       "      <td>0</td>\n",
       "      <td>0</td>\n",
       "      <td>STON/O2. 3101282</td>\n",
       "      <td>7.9250</td>\n",
       "      <td>NaN</td>\n",
       "      <td>S</td>\n",
       "    </tr>\n",
       "    <tr>\n",
       "      <th>3</th>\n",
       "      <td>4</td>\n",
       "      <td>1</td>\n",
       "      <td>1</td>\n",
       "      <td>Futrelle, Mrs. Jacques Heath (Lily May Peel)</td>\n",
       "      <td>female</td>\n",
       "      <td>35.0</td>\n",
       "      <td>1</td>\n",
       "      <td>0</td>\n",
       "      <td>113803</td>\n",
       "      <td>53.1000</td>\n",
       "      <td>C123</td>\n",
       "      <td>S</td>\n",
       "    </tr>\n",
       "    <tr>\n",
       "      <th>4</th>\n",
       "      <td>5</td>\n",
       "      <td>0</td>\n",
       "      <td>3</td>\n",
       "      <td>Allen, Mr. William Henry</td>\n",
       "      <td>male</td>\n",
       "      <td>35.0</td>\n",
       "      <td>0</td>\n",
       "      <td>0</td>\n",
       "      <td>373450</td>\n",
       "      <td>8.0500</td>\n",
       "      <td>NaN</td>\n",
       "      <td>S</td>\n",
       "    </tr>\n",
       "    <tr>\n",
       "      <th>...</th>\n",
       "      <td>...</td>\n",
       "      <td>...</td>\n",
       "      <td>...</td>\n",
       "      <td>...</td>\n",
       "      <td>...</td>\n",
       "      <td>...</td>\n",
       "      <td>...</td>\n",
       "      <td>...</td>\n",
       "      <td>...</td>\n",
       "      <td>...</td>\n",
       "      <td>...</td>\n",
       "      <td>...</td>\n",
       "    </tr>\n",
       "    <tr>\n",
       "      <th>886</th>\n",
       "      <td>887</td>\n",
       "      <td>0</td>\n",
       "      <td>2</td>\n",
       "      <td>Montvila, Rev. Juozas</td>\n",
       "      <td>male</td>\n",
       "      <td>27.0</td>\n",
       "      <td>0</td>\n",
       "      <td>0</td>\n",
       "      <td>211536</td>\n",
       "      <td>13.0000</td>\n",
       "      <td>NaN</td>\n",
       "      <td>S</td>\n",
       "    </tr>\n",
       "    <tr>\n",
       "      <th>887</th>\n",
       "      <td>888</td>\n",
       "      <td>1</td>\n",
       "      <td>1</td>\n",
       "      <td>Graham, Miss. Margaret Edith</td>\n",
       "      <td>female</td>\n",
       "      <td>19.0</td>\n",
       "      <td>0</td>\n",
       "      <td>0</td>\n",
       "      <td>112053</td>\n",
       "      <td>30.0000</td>\n",
       "      <td>B42</td>\n",
       "      <td>S</td>\n",
       "    </tr>\n",
       "    <tr>\n",
       "      <th>888</th>\n",
       "      <td>889</td>\n",
       "      <td>0</td>\n",
       "      <td>3</td>\n",
       "      <td>Johnston, Miss. Catherine Helen \"Carrie\"</td>\n",
       "      <td>female</td>\n",
       "      <td>NaN</td>\n",
       "      <td>1</td>\n",
       "      <td>2</td>\n",
       "      <td>W./C. 6607</td>\n",
       "      <td>23.4500</td>\n",
       "      <td>NaN</td>\n",
       "      <td>S</td>\n",
       "    </tr>\n",
       "    <tr>\n",
       "      <th>889</th>\n",
       "      <td>890</td>\n",
       "      <td>1</td>\n",
       "      <td>1</td>\n",
       "      <td>Behr, Mr. Karl Howell</td>\n",
       "      <td>male</td>\n",
       "      <td>26.0</td>\n",
       "      <td>0</td>\n",
       "      <td>0</td>\n",
       "      <td>111369</td>\n",
       "      <td>30.0000</td>\n",
       "      <td>C148</td>\n",
       "      <td>C</td>\n",
       "    </tr>\n",
       "    <tr>\n",
       "      <th>890</th>\n",
       "      <td>891</td>\n",
       "      <td>0</td>\n",
       "      <td>3</td>\n",
       "      <td>Dooley, Mr. Patrick</td>\n",
       "      <td>male</td>\n",
       "      <td>32.0</td>\n",
       "      <td>0</td>\n",
       "      <td>0</td>\n",
       "      <td>370376</td>\n",
       "      <td>7.7500</td>\n",
       "      <td>NaN</td>\n",
       "      <td>Q</td>\n",
       "    </tr>\n",
       "  </tbody>\n",
       "</table>\n",
       "<p>891 rows × 12 columns</p>\n",
       "</div>"
      ],
      "text/plain": [
       "     PassengerId  Survived  Pclass  \\\n",
       "0              1         0       3   \n",
       "1              2         1       1   \n",
       "2              3         1       3   \n",
       "3              4         1       1   \n",
       "4              5         0       3   \n",
       "..           ...       ...     ...   \n",
       "886          887         0       2   \n",
       "887          888         1       1   \n",
       "888          889         0       3   \n",
       "889          890         1       1   \n",
       "890          891         0       3   \n",
       "\n",
       "                                                  Name     Sex   Age  SibSp  \\\n",
       "0                              Braund, Mr. Owen Harris    male  22.0      1   \n",
       "1    Cumings, Mrs. John Bradley (Florence Briggs Th...  female  38.0      1   \n",
       "2                               Heikkinen, Miss. Laina  female  26.0      0   \n",
       "3         Futrelle, Mrs. Jacques Heath (Lily May Peel)  female  35.0      1   \n",
       "4                             Allen, Mr. William Henry    male  35.0      0   \n",
       "..                                                 ...     ...   ...    ...   \n",
       "886                              Montvila, Rev. Juozas    male  27.0      0   \n",
       "887                       Graham, Miss. Margaret Edith  female  19.0      0   \n",
       "888           Johnston, Miss. Catherine Helen \"Carrie\"  female   NaN      1   \n",
       "889                              Behr, Mr. Karl Howell    male  26.0      0   \n",
       "890                                Dooley, Mr. Patrick    male  32.0      0   \n",
       "\n",
       "     Parch            Ticket     Fare Cabin Embarked  \n",
       "0        0         A/5 21171   7.2500   NaN        S  \n",
       "1        0          PC 17599  71.2833   C85        C  \n",
       "2        0  STON/O2. 3101282   7.9250   NaN        S  \n",
       "3        0            113803  53.1000  C123        S  \n",
       "4        0            373450   8.0500   NaN        S  \n",
       "..     ...               ...      ...   ...      ...  \n",
       "886      0            211536  13.0000   NaN        S  \n",
       "887      0            112053  30.0000   B42        S  \n",
       "888      2        W./C. 6607  23.4500   NaN        S  \n",
       "889      0            111369  30.0000  C148        C  \n",
       "890      0            370376   7.7500   NaN        Q  \n",
       "\n",
       "[891 rows x 12 columns]"
      ]
     },
     "execution_count": 5,
     "metadata": {},
     "output_type": "execute_result"
    }
   ],
   "source": [
    "train = get_data(\"train\")\n",
    "train"
   ]
  },
  {
   "cell_type": "code",
   "execution_count": 6,
   "id": "d9b01c43",
   "metadata": {
    "execution": {
     "iopub.execute_input": "2024-05-21T21:09:06.600322Z",
     "iopub.status.busy": "2024-05-21T21:09:06.599984Z",
     "iopub.status.idle": "2024-05-21T21:09:06.620926Z",
     "shell.execute_reply": "2024-05-21T21:09:06.619452Z"
    },
    "papermill": {
     "duration": 0.035529,
     "end_time": "2024-05-21T21:09:06.623273",
     "exception": false,
     "start_time": "2024-05-21T21:09:06.587744",
     "status": "completed"
    },
    "tags": []
   },
   "outputs": [
    {
     "name": "stdout",
     "output_type": "stream",
     "text": [
      "<class 'pandas.core.frame.DataFrame'>\n",
      "RangeIndex: 891 entries, 0 to 890\n",
      "Data columns (total 12 columns):\n",
      " #   Column       Non-Null Count  Dtype  \n",
      "---  ------       --------------  -----  \n",
      " 0   PassengerId  891 non-null    int64  \n",
      " 1   Survived     891 non-null    int64  \n",
      " 2   Pclass       891 non-null    int64  \n",
      " 3   Name         891 non-null    object \n",
      " 4   Sex          891 non-null    object \n",
      " 5   Age          714 non-null    float64\n",
      " 6   SibSp        891 non-null    int64  \n",
      " 7   Parch        891 non-null    int64  \n",
      " 8   Ticket       891 non-null    object \n",
      " 9   Fare         891 non-null    float64\n",
      " 10  Cabin        204 non-null    object \n",
      " 11  Embarked     889 non-null    object \n",
      "dtypes: float64(2), int64(5), object(5)\n",
      "memory usage: 83.7+ KB\n"
     ]
    }
   ],
   "source": [
    "train.info()"
   ]
  },
  {
   "cell_type": "code",
   "execution_count": 7,
   "id": "f347f4e9",
   "metadata": {
    "execution": {
     "iopub.execute_input": "2024-05-21T21:09:06.646448Z",
     "iopub.status.busy": "2024-05-21T21:09:06.646075Z",
     "iopub.status.idle": "2024-05-21T21:09:06.654794Z",
     "shell.execute_reply": "2024-05-21T21:09:06.653758Z"
    },
    "papermill": {
     "duration": 0.022707,
     "end_time": "2024-05-21T21:09:06.656792",
     "exception": false,
     "start_time": "2024-05-21T21:09:06.634085",
     "status": "completed"
    },
    "tags": []
   },
   "outputs": [
    {
     "data": {
      "text/plain": [
       "PassengerId      0\n",
       "Survived         0\n",
       "Pclass           0\n",
       "Name             0\n",
       "Sex              0\n",
       "Age            177\n",
       "SibSp            0\n",
       "Parch            0\n",
       "Ticket           0\n",
       "Fare             0\n",
       "Cabin          687\n",
       "Embarked         2\n",
       "dtype: int64"
      ]
     },
     "execution_count": 7,
     "metadata": {},
     "output_type": "execute_result"
    }
   ],
   "source": [
    "train.isna().sum()"
   ]
  },
  {
   "cell_type": "markdown",
   "id": "2baf0be0",
   "metadata": {
    "papermill": {
     "duration": 0.010627,
     "end_time": "2024-05-21T21:09:06.678391",
     "exception": false,
     "start_time": "2024-05-21T21:09:06.667764",
     "status": "completed"
    },
    "tags": []
   },
   "source": [
    "## - data setcontains 891 entries and 11 feature columns \n",
    "## - Age and Cabin have missing values 177 and 687 each \n"
   ]
  },
  {
   "cell_type": "code",
   "execution_count": null,
   "id": "57ff7ede",
   "metadata": {
    "papermill": {
     "duration": 0.010612,
     "end_time": "2024-05-21T21:09:06.699950",
     "exception": false,
     "start_time": "2024-05-21T21:09:06.689338",
     "status": "completed"
    },
    "tags": []
   },
   "outputs": [],
   "source": []
  },
  {
   "cell_type": "markdown",
   "id": "421ad558",
   "metadata": {
    "papermill": {
     "duration": 0.010705,
     "end_time": "2024-05-21T21:09:06.721526",
     "exception": false,
     "start_time": "2024-05-21T21:09:06.710821",
     "status": "completed"
    },
    "tags": []
   },
   "source": [
    "# Preliminary Analysis"
   ]
  },
  {
   "cell_type": "code",
   "execution_count": 8,
   "id": "39808c3c",
   "metadata": {
    "execution": {
     "iopub.execute_input": "2024-05-21T21:09:06.744642Z",
     "iopub.status.busy": "2024-05-21T21:09:06.744272Z",
     "iopub.status.idle": "2024-05-21T21:09:06.759747Z",
     "shell.execute_reply": "2024-05-21T21:09:06.758637Z"
    },
    "papermill": {
     "duration": 0.029529,
     "end_time": "2024-05-21T21:09:06.761863",
     "exception": false,
     "start_time": "2024-05-21T21:09:06.732334",
     "status": "completed"
    },
    "tags": []
   },
   "outputs": [
    {
     "data": {
      "text/html": [
       "<div>\n",
       "<style scoped>\n",
       "    .dataframe tbody tr th:only-of-type {\n",
       "        vertical-align: middle;\n",
       "    }\n",
       "\n",
       "    .dataframe tbody tr th {\n",
       "        vertical-align: top;\n",
       "    }\n",
       "\n",
       "    .dataframe thead th {\n",
       "        text-align: right;\n",
       "    }\n",
       "</style>\n",
       "<table border=\"1\" class=\"dataframe\">\n",
       "  <thead>\n",
       "    <tr style=\"text-align: right;\">\n",
       "      <th></th>\n",
       "      <th>PassengerId</th>\n",
       "      <th>Survived</th>\n",
       "      <th>Pclass</th>\n",
       "      <th>Name</th>\n",
       "      <th>Sex</th>\n",
       "      <th>Age</th>\n",
       "      <th>SibSp</th>\n",
       "      <th>Parch</th>\n",
       "      <th>Ticket</th>\n",
       "      <th>Fare</th>\n",
       "      <th>Cabin</th>\n",
       "      <th>Embarked</th>\n",
       "    </tr>\n",
       "  </thead>\n",
       "  <tbody>\n",
       "    <tr>\n",
       "      <th>0</th>\n",
       "      <td>1</td>\n",
       "      <td>0</td>\n",
       "      <td>3</td>\n",
       "      <td>Braund, Mr. Owen Harris</td>\n",
       "      <td>male</td>\n",
       "      <td>22.0</td>\n",
       "      <td>1</td>\n",
       "      <td>0</td>\n",
       "      <td>A/5 21171</td>\n",
       "      <td>7.2500</td>\n",
       "      <td>NaN</td>\n",
       "      <td>S</td>\n",
       "    </tr>\n",
       "    <tr>\n",
       "      <th>1</th>\n",
       "      <td>2</td>\n",
       "      <td>1</td>\n",
       "      <td>1</td>\n",
       "      <td>Cumings, Mrs. John Bradley (Florence Briggs Th...</td>\n",
       "      <td>female</td>\n",
       "      <td>38.0</td>\n",
       "      <td>1</td>\n",
       "      <td>0</td>\n",
       "      <td>PC 17599</td>\n",
       "      <td>71.2833</td>\n",
       "      <td>C85</td>\n",
       "      <td>C</td>\n",
       "    </tr>\n",
       "    <tr>\n",
       "      <th>2</th>\n",
       "      <td>3</td>\n",
       "      <td>1</td>\n",
       "      <td>3</td>\n",
       "      <td>Heikkinen, Miss. Laina</td>\n",
       "      <td>female</td>\n",
       "      <td>26.0</td>\n",
       "      <td>0</td>\n",
       "      <td>0</td>\n",
       "      <td>STON/O2. 3101282</td>\n",
       "      <td>7.9250</td>\n",
       "      <td>NaN</td>\n",
       "      <td>S</td>\n",
       "    </tr>\n",
       "    <tr>\n",
       "      <th>3</th>\n",
       "      <td>4</td>\n",
       "      <td>1</td>\n",
       "      <td>1</td>\n",
       "      <td>Futrelle, Mrs. Jacques Heath (Lily May Peel)</td>\n",
       "      <td>female</td>\n",
       "      <td>35.0</td>\n",
       "      <td>1</td>\n",
       "      <td>0</td>\n",
       "      <td>113803</td>\n",
       "      <td>53.1000</td>\n",
       "      <td>C123</td>\n",
       "      <td>S</td>\n",
       "    </tr>\n",
       "    <tr>\n",
       "      <th>4</th>\n",
       "      <td>5</td>\n",
       "      <td>0</td>\n",
       "      <td>3</td>\n",
       "      <td>Allen, Mr. William Henry</td>\n",
       "      <td>male</td>\n",
       "      <td>35.0</td>\n",
       "      <td>0</td>\n",
       "      <td>0</td>\n",
       "      <td>373450</td>\n",
       "      <td>8.0500</td>\n",
       "      <td>NaN</td>\n",
       "      <td>S</td>\n",
       "    </tr>\n",
       "  </tbody>\n",
       "</table>\n",
       "</div>"
      ],
      "text/plain": [
       "   PassengerId  Survived  Pclass  \\\n",
       "0            1         0       3   \n",
       "1            2         1       1   \n",
       "2            3         1       3   \n",
       "3            4         1       1   \n",
       "4            5         0       3   \n",
       "\n",
       "                                                Name     Sex   Age  SibSp  \\\n",
       "0                            Braund, Mr. Owen Harris    male  22.0      1   \n",
       "1  Cumings, Mrs. John Bradley (Florence Briggs Th...  female  38.0      1   \n",
       "2                             Heikkinen, Miss. Laina  female  26.0      0   \n",
       "3       Futrelle, Mrs. Jacques Heath (Lily May Peel)  female  35.0      1   \n",
       "4                           Allen, Mr. William Henry    male  35.0      0   \n",
       "\n",
       "   Parch            Ticket     Fare Cabin Embarked  \n",
       "0      0         A/5 21171   7.2500   NaN        S  \n",
       "1      0          PC 17599  71.2833   C85        C  \n",
       "2      0  STON/O2. 3101282   7.9250   NaN        S  \n",
       "3      0            113803  53.1000  C123        S  \n",
       "4      0            373450   8.0500   NaN        S  "
      ]
     },
     "execution_count": 8,
     "metadata": {},
     "output_type": "execute_result"
    }
   ],
   "source": [
    "\n",
    "train.head()"
   ]
  },
  {
   "cell_type": "markdown",
   "id": "86d12c76",
   "metadata": {
    "papermill": {
     "duration": 0.010925,
     "end_time": "2024-05-21T21:09:06.784131",
     "exception": false,
     "start_time": "2024-05-21T21:09:06.773206",
     "status": "completed"
    },
    "tags": []
   },
   "source": [
    "### check datatypes\n"
   ]
  },
  {
   "cell_type": "code",
   "execution_count": 9,
   "id": "52953503",
   "metadata": {
    "execution": {
     "iopub.execute_input": "2024-05-21T21:09:06.808362Z",
     "iopub.status.busy": "2024-05-21T21:09:06.807712Z",
     "iopub.status.idle": "2024-05-21T21:09:06.816752Z",
     "shell.execute_reply": "2024-05-21T21:09:06.815978Z"
    },
    "papermill": {
     "duration": 0.023381,
     "end_time": "2024-05-21T21:09:06.818654",
     "exception": false,
     "start_time": "2024-05-21T21:09:06.795273",
     "status": "completed"
    },
    "tags": []
   },
   "outputs": [
    {
     "data": {
      "text/plain": [
       "PassengerId      int64\n",
       "Survived         int64\n",
       "Pclass           int64\n",
       "Name            object\n",
       "Sex             object\n",
       "Age            float64\n",
       "SibSp            int64\n",
       "Parch            int64\n",
       "Ticket          object\n",
       "Fare           float64\n",
       "Cabin           object\n",
       "Embarked        object\n",
       "dtype: object"
      ]
     },
     "execution_count": 9,
     "metadata": {},
     "output_type": "execute_result"
    }
   ],
   "source": [
    "train.dtypes"
   ]
  },
  {
   "cell_type": "markdown",
   "id": "834cd9bc",
   "metadata": {
    "papermill": {
     "duration": 0.011417,
     "end_time": "2024-05-21T21:09:06.841559",
     "exception": false,
     "start_time": "2024-05-21T21:09:06.830142",
     "status": "completed"
    },
    "tags": []
   },
   "source": [
    "### Check Duplicates\n"
   ]
  },
  {
   "cell_type": "code",
   "execution_count": 10,
   "id": "68e1254d",
   "metadata": {
    "execution": {
     "iopub.execute_input": "2024-05-21T21:09:06.866867Z",
     "iopub.status.busy": "2024-05-21T21:09:06.866471Z",
     "iopub.status.idle": "2024-05-21T21:09:06.876035Z",
     "shell.execute_reply": "2024-05-21T21:09:06.874939Z"
    },
    "papermill": {
     "duration": 0.024876,
     "end_time": "2024-05-21T21:09:06.878185",
     "exception": false,
     "start_time": "2024-05-21T21:09:06.853309",
     "status": "completed"
    },
    "tags": []
   },
   "outputs": [
    {
     "data": {
      "text/plain": [
       "0"
      ]
     },
     "execution_count": 10,
     "metadata": {},
     "output_type": "execute_result"
    }
   ],
   "source": [
    "train.duplicated().sum()"
   ]
  },
  {
   "cell_type": "code",
   "execution_count": null,
   "id": "332ecc79",
   "metadata": {
    "papermill": {
     "duration": 0.011167,
     "end_time": "2024-05-21T21:09:06.900858",
     "exception": false,
     "start_time": "2024-05-21T21:09:06.889691",
     "status": "completed"
    },
    "tags": []
   },
   "outputs": [],
   "source": []
  },
  {
   "cell_type": "markdown",
   "id": "36d0e6dc",
   "metadata": {
    "papermill": {
     "duration": 0.011022,
     "end_time": "2024-05-21T21:09:06.923226",
     "exception": false,
     "start_time": "2024-05-21T21:09:06.912204",
     "status": "completed"
    },
    "tags": []
   },
   "source": [
    "# Detailed Analysis\n"
   ]
  },
  {
   "cell_type": "code",
   "execution_count": 11,
   "id": "e16f93f2",
   "metadata": {
    "execution": {
     "iopub.execute_input": "2024-05-21T21:09:06.947535Z",
     "iopub.status.busy": "2024-05-21T21:09:06.947142Z",
     "iopub.status.idle": "2024-05-21T21:09:06.953331Z",
     "shell.execute_reply": "2024-05-21T21:09:06.952380Z"
    },
    "papermill": {
     "duration": 0.020874,
     "end_time": "2024-05-21T21:09:06.955437",
     "exception": false,
     "start_time": "2024-05-21T21:09:06.934563",
     "status": "completed"
    },
    "tags": []
   },
   "outputs": [
    {
     "data": {
      "text/plain": [
       "Index(['PassengerId', 'Survived', 'Pclass', 'Name', 'Sex', 'Age', 'SibSp',\n",
       "       'Parch', 'Ticket', 'Fare', 'Cabin', 'Embarked'],\n",
       "      dtype='object')"
      ]
     },
     "execution_count": 11,
     "metadata": {},
     "output_type": "execute_result"
    }
   ],
   "source": [
    "train.columns"
   ]
  },
  {
   "cell_type": "code",
   "execution_count": 12,
   "id": "abd06349",
   "metadata": {
    "execution": {
     "iopub.execute_input": "2024-05-21T21:09:06.980316Z",
     "iopub.status.busy": "2024-05-21T21:09:06.979946Z",
     "iopub.status.idle": "2024-05-21T21:09:06.987676Z",
     "shell.execute_reply": "2024-05-21T21:09:06.986647Z"
    },
    "papermill": {
     "duration": 0.022564,
     "end_time": "2024-05-21T21:09:06.989734",
     "exception": false,
     "start_time": "2024-05-21T21:09:06.967170",
     "status": "completed"
    },
    "tags": []
   },
   "outputs": [
    {
     "data": {
      "text/plain": [
       "0        1\n",
       "1        2\n",
       "2        3\n",
       "3        4\n",
       "4        5\n",
       "      ... \n",
       "886    887\n",
       "887    888\n",
       "888    889\n",
       "889    890\n",
       "890    891\n",
       "Name: PassengerId, Length: 891, dtype: int64"
      ]
     },
     "execution_count": 12,
     "metadata": {},
     "output_type": "execute_result"
    }
   ],
   "source": [
    "train.PassengerId\n",
    "\n"
   ]
  },
  {
   "cell_type": "code",
   "execution_count": 13,
   "id": "55d10066",
   "metadata": {
    "execution": {
     "iopub.execute_input": "2024-05-21T21:09:07.071607Z",
     "iopub.status.busy": "2024-05-21T21:09:07.071219Z",
     "iopub.status.idle": "2024-05-21T21:09:07.078793Z",
     "shell.execute_reply": "2024-05-21T21:09:07.077595Z"
    },
    "papermill": {
     "duration": 0.079424,
     "end_time": "2024-05-21T21:09:07.080929",
     "exception": false,
     "start_time": "2024-05-21T21:09:07.001505",
     "status": "completed"
    },
    "tags": []
   },
   "outputs": [
    {
     "data": {
      "text/plain": [
       "0      0\n",
       "1      1\n",
       "2      1\n",
       "3      1\n",
       "4      0\n",
       "      ..\n",
       "886    0\n",
       "887    1\n",
       "888    0\n",
       "889    1\n",
       "890    0\n",
       "Name: Survived, Length: 891, dtype: int64"
      ]
     },
     "execution_count": 13,
     "metadata": {},
     "output_type": "execute_result"
    }
   ],
   "source": [
    "train.Survived"
   ]
  },
  {
   "cell_type": "code",
   "execution_count": 14,
   "id": "a8e2d2cc",
   "metadata": {
    "execution": {
     "iopub.execute_input": "2024-05-21T21:09:07.106438Z",
     "iopub.status.busy": "2024-05-21T21:09:07.106079Z",
     "iopub.status.idle": "2024-05-21T21:09:07.114851Z",
     "shell.execute_reply": "2024-05-21T21:09:07.113697Z"
    },
    "papermill": {
     "duration": 0.024206,
     "end_time": "2024-05-21T21:09:07.117048",
     "exception": false,
     "start_time": "2024-05-21T21:09:07.092842",
     "status": "completed"
    },
    "tags": []
   },
   "outputs": [
    {
     "data": {
      "text/plain": [
       "array([0, 1])"
      ]
     },
     "execution_count": 14,
     "metadata": {},
     "output_type": "execute_result"
    }
   ],
   "source": [
    "train.Survived.unique()\n"
   ]
  },
  {
   "cell_type": "code",
   "execution_count": 15,
   "id": "046aa031",
   "metadata": {
    "execution": {
     "iopub.execute_input": "2024-05-21T21:09:07.143135Z",
     "iopub.status.busy": "2024-05-21T21:09:07.142365Z",
     "iopub.status.idle": "2024-05-21T21:09:07.149533Z",
     "shell.execute_reply": "2024-05-21T21:09:07.148484Z"
    },
    "papermill": {
     "duration": 0.022525,
     "end_time": "2024-05-21T21:09:07.151695",
     "exception": false,
     "start_time": "2024-05-21T21:09:07.129170",
     "status": "completed"
    },
    "tags": []
   },
   "outputs": [
    {
     "data": {
      "text/plain": [
       "0"
      ]
     },
     "execution_count": 15,
     "metadata": {},
     "output_type": "execute_result"
    }
   ],
   "source": [
    "train.Survived.isna().sum()"
   ]
  },
  {
   "cell_type": "markdown",
   "id": "23a3c4eb",
   "metadata": {
    "papermill": {
     "duration": 0.011819,
     "end_time": "2024-05-21T21:09:07.175562",
     "exception": false,
     "start_time": "2024-05-21T21:09:07.163743",
     "status": "completed"
    },
    "tags": []
   },
   "source": [
    "## Pclass\n"
   ]
  },
  {
   "cell_type": "code",
   "execution_count": 16,
   "id": "612f5046",
   "metadata": {
    "execution": {
     "iopub.execute_input": "2024-05-21T21:09:07.201839Z",
     "iopub.status.busy": "2024-05-21T21:09:07.201442Z",
     "iopub.status.idle": "2024-05-21T21:09:07.208252Z",
     "shell.execute_reply": "2024-05-21T21:09:07.207162Z"
    },
    "papermill": {
     "duration": 0.022237,
     "end_time": "2024-05-21T21:09:07.210225",
     "exception": false,
     "start_time": "2024-05-21T21:09:07.187988",
     "status": "completed"
    },
    "tags": []
   },
   "outputs": [
    {
     "data": {
      "text/plain": [
       "array([3, 1, 2])"
      ]
     },
     "execution_count": 16,
     "metadata": {},
     "output_type": "execute_result"
    }
   ],
   "source": [
    "train.Pclass.unique()"
   ]
  },
  {
   "cell_type": "markdown",
   "id": "e0806d7b",
   "metadata": {
    "papermill": {
     "duration": 0.012079,
     "end_time": "2024-05-21T21:09:07.234589",
     "exception": false,
     "start_time": "2024-05-21T21:09:07.222510",
     "status": "completed"
    },
    "tags": []
   },
   "source": [
    "## Name\n"
   ]
  },
  {
   "cell_type": "code",
   "execution_count": 17,
   "id": "935c879e",
   "metadata": {
    "execution": {
     "iopub.execute_input": "2024-05-21T21:09:07.260861Z",
     "iopub.status.busy": "2024-05-21T21:09:07.260515Z",
     "iopub.status.idle": "2024-05-21T21:09:07.289066Z",
     "shell.execute_reply": "2024-05-21T21:09:07.287918Z"
    },
    "papermill": {
     "duration": 0.04444,
     "end_time": "2024-05-21T21:09:07.291207",
     "exception": false,
     "start_time": "2024-05-21T21:09:07.246767",
     "status": "completed"
    },
    "tags": []
   },
   "outputs": [
    {
     "data": {
      "text/html": [
       "<div>\n",
       "<style scoped>\n",
       "    .dataframe tbody tr th:only-of-type {\n",
       "        vertical-align: middle;\n",
       "    }\n",
       "\n",
       "    .dataframe tbody tr th {\n",
       "        vertical-align: top;\n",
       "    }\n",
       "\n",
       "    .dataframe thead th {\n",
       "        text-align: right;\n",
       "    }\n",
       "</style>\n",
       "<table border=\"1\" class=\"dataframe\">\n",
       "  <thead>\n",
       "    <tr style=\"text-align: right;\">\n",
       "      <th></th>\n",
       "      <th>PassengerId</th>\n",
       "      <th>Survived</th>\n",
       "      <th>Pclass</th>\n",
       "      <th>Name</th>\n",
       "      <th>Sex</th>\n",
       "      <th>Age</th>\n",
       "      <th>SibSp</th>\n",
       "      <th>Parch</th>\n",
       "      <th>Ticket</th>\n",
       "      <th>Fare</th>\n",
       "      <th>Cabin</th>\n",
       "      <th>Embarked</th>\n",
       "      <th>Title</th>\n",
       "    </tr>\n",
       "  </thead>\n",
       "  <tbody>\n",
       "    <tr>\n",
       "      <th>0</th>\n",
       "      <td>1</td>\n",
       "      <td>0</td>\n",
       "      <td>3</td>\n",
       "      <td>Braund, Mr. Owen Harris</td>\n",
       "      <td>male</td>\n",
       "      <td>22.0</td>\n",
       "      <td>1</td>\n",
       "      <td>0</td>\n",
       "      <td>A/5 21171</td>\n",
       "      <td>7.2500</td>\n",
       "      <td>NaN</td>\n",
       "      <td>S</td>\n",
       "      <td>Mr</td>\n",
       "    </tr>\n",
       "    <tr>\n",
       "      <th>1</th>\n",
       "      <td>2</td>\n",
       "      <td>1</td>\n",
       "      <td>1</td>\n",
       "      <td>Cumings, Mrs. John Bradley (Florence Briggs Th...</td>\n",
       "      <td>female</td>\n",
       "      <td>38.0</td>\n",
       "      <td>1</td>\n",
       "      <td>0</td>\n",
       "      <td>PC 17599</td>\n",
       "      <td>71.2833</td>\n",
       "      <td>C85</td>\n",
       "      <td>C</td>\n",
       "      <td>Mrs</td>\n",
       "    </tr>\n",
       "    <tr>\n",
       "      <th>2</th>\n",
       "      <td>3</td>\n",
       "      <td>1</td>\n",
       "      <td>3</td>\n",
       "      <td>Heikkinen, Miss. Laina</td>\n",
       "      <td>female</td>\n",
       "      <td>26.0</td>\n",
       "      <td>0</td>\n",
       "      <td>0</td>\n",
       "      <td>STON/O2. 3101282</td>\n",
       "      <td>7.9250</td>\n",
       "      <td>NaN</td>\n",
       "      <td>S</td>\n",
       "      <td>Miss</td>\n",
       "    </tr>\n",
       "    <tr>\n",
       "      <th>3</th>\n",
       "      <td>4</td>\n",
       "      <td>1</td>\n",
       "      <td>1</td>\n",
       "      <td>Futrelle, Mrs. Jacques Heath (Lily May Peel)</td>\n",
       "      <td>female</td>\n",
       "      <td>35.0</td>\n",
       "      <td>1</td>\n",
       "      <td>0</td>\n",
       "      <td>113803</td>\n",
       "      <td>53.1000</td>\n",
       "      <td>C123</td>\n",
       "      <td>S</td>\n",
       "      <td>Mrs</td>\n",
       "    </tr>\n",
       "    <tr>\n",
       "      <th>4</th>\n",
       "      <td>5</td>\n",
       "      <td>0</td>\n",
       "      <td>3</td>\n",
       "      <td>Allen, Mr. William Henry</td>\n",
       "      <td>male</td>\n",
       "      <td>35.0</td>\n",
       "      <td>0</td>\n",
       "      <td>0</td>\n",
       "      <td>373450</td>\n",
       "      <td>8.0500</td>\n",
       "      <td>NaN</td>\n",
       "      <td>S</td>\n",
       "      <td>Mr</td>\n",
       "    </tr>\n",
       "    <tr>\n",
       "      <th>...</th>\n",
       "      <td>...</td>\n",
       "      <td>...</td>\n",
       "      <td>...</td>\n",
       "      <td>...</td>\n",
       "      <td>...</td>\n",
       "      <td>...</td>\n",
       "      <td>...</td>\n",
       "      <td>...</td>\n",
       "      <td>...</td>\n",
       "      <td>...</td>\n",
       "      <td>...</td>\n",
       "      <td>...</td>\n",
       "      <td>...</td>\n",
       "    </tr>\n",
       "    <tr>\n",
       "      <th>886</th>\n",
       "      <td>887</td>\n",
       "      <td>0</td>\n",
       "      <td>2</td>\n",
       "      <td>Montvila, Rev. Juozas</td>\n",
       "      <td>male</td>\n",
       "      <td>27.0</td>\n",
       "      <td>0</td>\n",
       "      <td>0</td>\n",
       "      <td>211536</td>\n",
       "      <td>13.0000</td>\n",
       "      <td>NaN</td>\n",
       "      <td>S</td>\n",
       "      <td>Rev</td>\n",
       "    </tr>\n",
       "    <tr>\n",
       "      <th>887</th>\n",
       "      <td>888</td>\n",
       "      <td>1</td>\n",
       "      <td>1</td>\n",
       "      <td>Graham, Miss. Margaret Edith</td>\n",
       "      <td>female</td>\n",
       "      <td>19.0</td>\n",
       "      <td>0</td>\n",
       "      <td>0</td>\n",
       "      <td>112053</td>\n",
       "      <td>30.0000</td>\n",
       "      <td>B42</td>\n",
       "      <td>S</td>\n",
       "      <td>Miss</td>\n",
       "    </tr>\n",
       "    <tr>\n",
       "      <th>888</th>\n",
       "      <td>889</td>\n",
       "      <td>0</td>\n",
       "      <td>3</td>\n",
       "      <td>Johnston, Miss. Catherine Helen \"Carrie\"</td>\n",
       "      <td>female</td>\n",
       "      <td>NaN</td>\n",
       "      <td>1</td>\n",
       "      <td>2</td>\n",
       "      <td>W./C. 6607</td>\n",
       "      <td>23.4500</td>\n",
       "      <td>NaN</td>\n",
       "      <td>S</td>\n",
       "      <td>Miss</td>\n",
       "    </tr>\n",
       "    <tr>\n",
       "      <th>889</th>\n",
       "      <td>890</td>\n",
       "      <td>1</td>\n",
       "      <td>1</td>\n",
       "      <td>Behr, Mr. Karl Howell</td>\n",
       "      <td>male</td>\n",
       "      <td>26.0</td>\n",
       "      <td>0</td>\n",
       "      <td>0</td>\n",
       "      <td>111369</td>\n",
       "      <td>30.0000</td>\n",
       "      <td>C148</td>\n",
       "      <td>C</td>\n",
       "      <td>Mr</td>\n",
       "    </tr>\n",
       "    <tr>\n",
       "      <th>890</th>\n",
       "      <td>891</td>\n",
       "      <td>0</td>\n",
       "      <td>3</td>\n",
       "      <td>Dooley, Mr. Patrick</td>\n",
       "      <td>male</td>\n",
       "      <td>32.0</td>\n",
       "      <td>0</td>\n",
       "      <td>0</td>\n",
       "      <td>370376</td>\n",
       "      <td>7.7500</td>\n",
       "      <td>NaN</td>\n",
       "      <td>Q</td>\n",
       "      <td>Mr</td>\n",
       "    </tr>\n",
       "  </tbody>\n",
       "</table>\n",
       "<p>891 rows × 13 columns</p>\n",
       "</div>"
      ],
      "text/plain": [
       "     PassengerId  Survived  Pclass  \\\n",
       "0              1         0       3   \n",
       "1              2         1       1   \n",
       "2              3         1       3   \n",
       "3              4         1       1   \n",
       "4              5         0       3   \n",
       "..           ...       ...     ...   \n",
       "886          887         0       2   \n",
       "887          888         1       1   \n",
       "888          889         0       3   \n",
       "889          890         1       1   \n",
       "890          891         0       3   \n",
       "\n",
       "                                                  Name     Sex   Age  SibSp  \\\n",
       "0                              Braund, Mr. Owen Harris    male  22.0      1   \n",
       "1    Cumings, Mrs. John Bradley (Florence Briggs Th...  female  38.0      1   \n",
       "2                               Heikkinen, Miss. Laina  female  26.0      0   \n",
       "3         Futrelle, Mrs. Jacques Heath (Lily May Peel)  female  35.0      1   \n",
       "4                             Allen, Mr. William Henry    male  35.0      0   \n",
       "..                                                 ...     ...   ...    ...   \n",
       "886                              Montvila, Rev. Juozas    male  27.0      0   \n",
       "887                       Graham, Miss. Margaret Edith  female  19.0      0   \n",
       "888           Johnston, Miss. Catherine Helen \"Carrie\"  female   NaN      1   \n",
       "889                              Behr, Mr. Karl Howell    male  26.0      0   \n",
       "890                                Dooley, Mr. Patrick    male  32.0      0   \n",
       "\n",
       "     Parch            Ticket     Fare Cabin Embarked Title  \n",
       "0        0         A/5 21171   7.2500   NaN        S    Mr  \n",
       "1        0          PC 17599  71.2833   C85        C   Mrs  \n",
       "2        0  STON/O2. 3101282   7.9250   NaN        S  Miss  \n",
       "3        0            113803  53.1000  C123        S   Mrs  \n",
       "4        0            373450   8.0500   NaN        S    Mr  \n",
       "..     ...               ...      ...   ...      ...   ...  \n",
       "886      0            211536  13.0000   NaN        S   Rev  \n",
       "887      0            112053  30.0000   B42        S  Miss  \n",
       "888      2        W./C. 6607  23.4500   NaN        S  Miss  \n",
       "889      0            111369  30.0000  C148        C    Mr  \n",
       "890      0            370376   7.7500   NaN        Q    Mr  \n",
       "\n",
       "[891 rows x 13 columns]"
      ]
     },
     "execution_count": 17,
     "metadata": {},
     "output_type": "execute_result"
    }
   ],
   "source": [
    "train.Name.unique().size\n",
    "\n",
    "train['Title'] = train.Name.apply(lambda name: name.split(',')[1].split('.')[0].strip())\n",
    "train\n",
    "\n",
    "\n",
    "train = train.assign(\n",
    "    Title=lambda df_: df_['Name']\n",
    "                      .str.split(',')\n",
    "                      .str[1]\n",
    "                      .str.split('.')\n",
    "                      .str[0]\n",
    "                      .str.strip()\n",
    ")\n",
    "train"
   ]
  },
  {
   "cell_type": "code",
   "execution_count": 18,
   "id": "8e5b3300",
   "metadata": {
    "execution": {
     "iopub.execute_input": "2024-05-21T21:09:07.318815Z",
     "iopub.status.busy": "2024-05-21T21:09:07.318421Z",
     "iopub.status.idle": "2024-05-21T21:09:07.335183Z",
     "shell.execute_reply": "2024-05-21T21:09:07.334003Z"
    },
    "papermill": {
     "duration": 0.033277,
     "end_time": "2024-05-21T21:09:07.337480",
     "exception": false,
     "start_time": "2024-05-21T21:09:07.304203",
     "status": "completed"
    },
    "tags": []
   },
   "outputs": [],
   "source": [
    "\n",
    "\n",
    "df= (\n",
    "    train\n",
    "    .Name \n",
    "    .str.split(\",\", expand=True)\n",
    "    .set_axis([\"lastname\", \"firstname\"], axis=1)\n",
    "    .assign(\n",
    "        lastname = lambda df_: (\n",
    "            df_\n",
    "            .lastname\n",
    "            .str.strip()\n",
    "        ),\n",
    "        firstname= lambda df_: (\n",
    "            df_\n",
    "            .firstname\n",
    "            .str.split(\"(\")\n",
    "            .str[0]\n",
    "            .str.strip()\n",
    "            . str.replace(r'(Mr\\.|Mrs\\.|Miss\\.|Master\\.)', '', regex=True)\n",
    "            .str.split('\\\"')\n",
    "            .str[0]\n",
    "            .str.strip()\n",
    "        )\n",
    "    )\n",
    ")\n"
   ]
  },
  {
   "cell_type": "markdown",
   "id": "6d145348",
   "metadata": {
    "papermill": {
     "duration": 0.012287,
     "end_time": "2024-05-21T21:09:07.362466",
     "exception": false,
     "start_time": "2024-05-21T21:09:07.350179",
     "status": "completed"
    },
    "tags": []
   },
   "source": [
    "## Sex"
   ]
  },
  {
   "cell_type": "code",
   "execution_count": 19,
   "id": "566a71a9",
   "metadata": {
    "execution": {
     "iopub.execute_input": "2024-05-21T21:09:07.389084Z",
     "iopub.status.busy": "2024-05-21T21:09:07.388689Z",
     "iopub.status.idle": "2024-05-21T21:09:07.395790Z",
     "shell.execute_reply": "2024-05-21T21:09:07.394726Z"
    },
    "papermill": {
     "duration": 0.022687,
     "end_time": "2024-05-21T21:09:07.397698",
     "exception": false,
     "start_time": "2024-05-21T21:09:07.375011",
     "status": "completed"
    },
    "tags": []
   },
   "outputs": [
    {
     "data": {
      "text/plain": [
       "array(['male', 'female'], dtype=object)"
      ]
     },
     "execution_count": 19,
     "metadata": {},
     "output_type": "execute_result"
    }
   ],
   "source": [
    "train.Sex.unique()"
   ]
  },
  {
   "cell_type": "code",
   "execution_count": 20,
   "id": "a128a777",
   "metadata": {
    "execution": {
     "iopub.execute_input": "2024-05-21T21:09:07.424846Z",
     "iopub.status.busy": "2024-05-21T21:09:07.424443Z",
     "iopub.status.idle": "2024-05-21T21:09:07.433708Z",
     "shell.execute_reply": "2024-05-21T21:09:07.432457Z"
    },
    "papermill": {
     "duration": 0.025544,
     "end_time": "2024-05-21T21:09:07.435992",
     "exception": false,
     "start_time": "2024-05-21T21:09:07.410448",
     "status": "completed"
    },
    "tags": []
   },
   "outputs": [],
   "source": [
    "def is_male(ser):\n",
    "    temp = ser.to_frame()\n",
    "    return (\n",
    "        temp\n",
    "        .assign(is_male=np.select(\n",
    "            [temp.iloc[:, 0] == \"male\", temp.iloc[:, 0] == \"female\"],\n",
    "            [1, 0],\n",
    "            default=-1  \n",
    "        ))\n",
    "    )\n",
    "\n",
    "\n",
    "df = (\n",
    "    train\n",
    "    .Sex\n",
    "    .pipe(is_male)\n",
    "    .drop('Sex', axis=1)\n",
    "    \n",
    ")"
   ]
  },
  {
   "cell_type": "markdown",
   "id": "a8a56146",
   "metadata": {
    "papermill": {
     "duration": 0.013236,
     "end_time": "2024-05-21T21:09:07.462495",
     "exception": false,
     "start_time": "2024-05-21T21:09:07.449259",
     "status": "completed"
    },
    "tags": []
   },
   "source": [
    "## Age\n"
   ]
  },
  {
   "cell_type": "code",
   "execution_count": 21,
   "id": "4590fbb5",
   "metadata": {
    "execution": {
     "iopub.execute_input": "2024-05-21T21:09:07.489932Z",
     "iopub.status.busy": "2024-05-21T21:09:07.489537Z",
     "iopub.status.idle": "2024-05-21T21:09:07.498008Z",
     "shell.execute_reply": "2024-05-21T21:09:07.497167Z"
    },
    "papermill": {
     "duration": 0.024523,
     "end_time": "2024-05-21T21:09:07.499874",
     "exception": false,
     "start_time": "2024-05-21T21:09:07.475351",
     "status": "completed"
    },
    "tags": []
   },
   "outputs": [
    {
     "data": {
      "text/plain": [
       "Series([], Name: Age, dtype: float64)"
      ]
     },
     "execution_count": 21,
     "metadata": {},
     "output_type": "execute_result"
    }
   ],
   "source": [
    "train.Age.isna().sum()\n",
    "\n",
    "train.Age[(train.Age <=0 )| (train.Age >=100)]"
   ]
  },
  {
   "cell_type": "markdown",
   "id": "8baf45bb",
   "metadata": {
    "papermill": {
     "duration": 0.012674,
     "end_time": "2024-05-21T21:09:07.525636",
     "exception": false,
     "start_time": "2024-05-21T21:09:07.512962",
     "status": "completed"
    },
    "tags": []
   },
   "source": [
    "## SibSp\n"
   ]
  },
  {
   "cell_type": "code",
   "execution_count": 22,
   "id": "00f57091",
   "metadata": {
    "execution": {
     "iopub.execute_input": "2024-05-21T21:09:07.554010Z",
     "iopub.status.busy": "2024-05-21T21:09:07.552889Z",
     "iopub.status.idle": "2024-05-21T21:09:07.559213Z",
     "shell.execute_reply": "2024-05-21T21:09:07.558323Z"
    },
    "papermill": {
     "duration": 0.022605,
     "end_time": "2024-05-21T21:09:07.561181",
     "exception": false,
     "start_time": "2024-05-21T21:09:07.538576",
     "status": "completed"
    },
    "tags": []
   },
   "outputs": [
    {
     "data": {
      "text/plain": [
       "array([1, 0, 3, 4, 2, 5, 8])"
      ]
     },
     "execution_count": 22,
     "metadata": {},
     "output_type": "execute_result"
    }
   ],
   "source": [
    "train.SibSp.unique()\n",
    "\n"
   ]
  },
  {
   "cell_type": "markdown",
   "id": "e4ebc1ea",
   "metadata": {
    "papermill": {
     "duration": 0.012626,
     "end_time": "2024-05-21T21:09:07.586853",
     "exception": false,
     "start_time": "2024-05-21T21:09:07.574227",
     "status": "completed"
    },
    "tags": []
   },
   "source": [
    "## Parch\n"
   ]
  },
  {
   "cell_type": "code",
   "execution_count": 23,
   "id": "64bb58a3",
   "metadata": {
    "execution": {
     "iopub.execute_input": "2024-05-21T21:09:07.614785Z",
     "iopub.status.busy": "2024-05-21T21:09:07.613708Z",
     "iopub.status.idle": "2024-05-21T21:09:07.619812Z",
     "shell.execute_reply": "2024-05-21T21:09:07.619102Z"
    },
    "papermill": {
     "duration": 0.021938,
     "end_time": "2024-05-21T21:09:07.621637",
     "exception": false,
     "start_time": "2024-05-21T21:09:07.599699",
     "status": "completed"
    },
    "tags": []
   },
   "outputs": [
    {
     "data": {
      "text/plain": [
       "array([0, 1, 2, 5, 3, 4, 6])"
      ]
     },
     "execution_count": 23,
     "metadata": {},
     "output_type": "execute_result"
    }
   ],
   "source": [
    "train.Parch.unique()\n",
    "\n"
   ]
  },
  {
   "cell_type": "markdown",
   "id": "5e8727b1",
   "metadata": {
    "papermill": {
     "duration": 0.012821,
     "end_time": "2024-05-21T21:09:07.647671",
     "exception": false,
     "start_time": "2024-05-21T21:09:07.634850",
     "status": "completed"
    },
    "tags": []
   },
   "source": [
    "## Ticket\n"
   ]
  },
  {
   "cell_type": "code",
   "execution_count": 24,
   "id": "68360502",
   "metadata": {
    "execution": {
     "iopub.execute_input": "2024-05-21T21:09:07.675726Z",
     "iopub.status.busy": "2024-05-21T21:09:07.674824Z",
     "iopub.status.idle": "2024-05-21T21:09:07.682884Z",
     "shell.execute_reply": "2024-05-21T21:09:07.682136Z"
    },
    "papermill": {
     "duration": 0.024151,
     "end_time": "2024-05-21T21:09:07.684776",
     "exception": false,
     "start_time": "2024-05-21T21:09:07.660625",
     "status": "completed"
    },
    "tags": []
   },
   "outputs": [
    {
     "data": {
      "text/plain": [
       "0             A/5 21171\n",
       "1              PC 17599\n",
       "2      STON/O2. 3101282\n",
       "3                113803\n",
       "4                373450\n",
       "             ...       \n",
       "886              211536\n",
       "887              112053\n",
       "888          W./C. 6607\n",
       "889              111369\n",
       "890              370376\n",
       "Name: Ticket, Length: 891, dtype: object"
      ]
     },
     "execution_count": 24,
     "metadata": {},
     "output_type": "execute_result"
    }
   ],
   "source": [
    "train.Ticket"
   ]
  },
  {
   "cell_type": "code",
   "execution_count": 25,
   "id": "cf5ae43e",
   "metadata": {
    "execution": {
     "iopub.execute_input": "2024-05-21T21:09:07.713667Z",
     "iopub.status.busy": "2024-05-21T21:09:07.712985Z",
     "iopub.status.idle": "2024-05-21T21:09:07.739720Z",
     "shell.execute_reply": "2024-05-21T21:09:07.738685Z"
    },
    "papermill": {
     "duration": 0.043687,
     "end_time": "2024-05-21T21:09:07.742147",
     "exception": false,
     "start_time": "2024-05-21T21:09:07.698460",
     "status": "completed"
    },
    "tags": []
   },
   "outputs": [
    {
     "data": {
      "text/html": [
       "<div>\n",
       "<style scoped>\n",
       "    .dataframe tbody tr th:only-of-type {\n",
       "        vertical-align: middle;\n",
       "    }\n",
       "\n",
       "    .dataframe tbody tr th {\n",
       "        vertical-align: top;\n",
       "    }\n",
       "\n",
       "    .dataframe thead th {\n",
       "        text-align: right;\n",
       "    }\n",
       "</style>\n",
       "<table border=\"1\" class=\"dataframe\">\n",
       "  <thead>\n",
       "    <tr style=\"text-align: right;\">\n",
       "      <th></th>\n",
       "      <th>PassengerId</th>\n",
       "      <th>Survived</th>\n",
       "      <th>Pclass</th>\n",
       "      <th>Name</th>\n",
       "      <th>Sex</th>\n",
       "      <th>Age</th>\n",
       "      <th>SibSp</th>\n",
       "      <th>Parch</th>\n",
       "      <th>Ticket</th>\n",
       "      <th>Fare</th>\n",
       "      <th>Cabin</th>\n",
       "      <th>Embarked</th>\n",
       "      <th>Title</th>\n",
       "      <th>TicketPrefix</th>\n",
       "      <th>TicketNumber</th>\n",
       "    </tr>\n",
       "  </thead>\n",
       "  <tbody>\n",
       "    <tr>\n",
       "      <th>0</th>\n",
       "      <td>1</td>\n",
       "      <td>0</td>\n",
       "      <td>3</td>\n",
       "      <td>Braund, Mr. Owen Harris</td>\n",
       "      <td>male</td>\n",
       "      <td>22.0</td>\n",
       "      <td>1</td>\n",
       "      <td>0</td>\n",
       "      <td>A/521171</td>\n",
       "      <td>7.2500</td>\n",
       "      <td>NaN</td>\n",
       "      <td>S</td>\n",
       "      <td>Mr</td>\n",
       "      <td>A/</td>\n",
       "      <td>521171.0</td>\n",
       "    </tr>\n",
       "    <tr>\n",
       "      <th>1</th>\n",
       "      <td>2</td>\n",
       "      <td>1</td>\n",
       "      <td>1</td>\n",
       "      <td>Cumings, Mrs. John Bradley (Florence Briggs Th...</td>\n",
       "      <td>female</td>\n",
       "      <td>38.0</td>\n",
       "      <td>1</td>\n",
       "      <td>0</td>\n",
       "      <td>PC17599</td>\n",
       "      <td>71.2833</td>\n",
       "      <td>C85</td>\n",
       "      <td>C</td>\n",
       "      <td>Mrs</td>\n",
       "      <td>PC</td>\n",
       "      <td>17599.0</td>\n",
       "    </tr>\n",
       "    <tr>\n",
       "      <th>2</th>\n",
       "      <td>3</td>\n",
       "      <td>1</td>\n",
       "      <td>3</td>\n",
       "      <td>Heikkinen, Miss. Laina</td>\n",
       "      <td>female</td>\n",
       "      <td>26.0</td>\n",
       "      <td>0</td>\n",
       "      <td>0</td>\n",
       "      <td>STON/O2.3101282</td>\n",
       "      <td>7.9250</td>\n",
       "      <td>NaN</td>\n",
       "      <td>S</td>\n",
       "      <td>Miss</td>\n",
       "      <td>STON/O</td>\n",
       "      <td>2.0</td>\n",
       "    </tr>\n",
       "    <tr>\n",
       "      <th>3</th>\n",
       "      <td>4</td>\n",
       "      <td>1</td>\n",
       "      <td>1</td>\n",
       "      <td>Futrelle, Mrs. Jacques Heath (Lily May Peel)</td>\n",
       "      <td>female</td>\n",
       "      <td>35.0</td>\n",
       "      <td>1</td>\n",
       "      <td>0</td>\n",
       "      <td>113803</td>\n",
       "      <td>53.1000</td>\n",
       "      <td>C123</td>\n",
       "      <td>S</td>\n",
       "      <td>Mrs</td>\n",
       "      <td>O</td>\n",
       "      <td>113803.0</td>\n",
       "    </tr>\n",
       "    <tr>\n",
       "      <th>4</th>\n",
       "      <td>5</td>\n",
       "      <td>0</td>\n",
       "      <td>3</td>\n",
       "      <td>Allen, Mr. William Henry</td>\n",
       "      <td>male</td>\n",
       "      <td>35.0</td>\n",
       "      <td>0</td>\n",
       "      <td>0</td>\n",
       "      <td>373450</td>\n",
       "      <td>8.0500</td>\n",
       "      <td>NaN</td>\n",
       "      <td>S</td>\n",
       "      <td>Mr</td>\n",
       "      <td>O</td>\n",
       "      <td>373450.0</td>\n",
       "    </tr>\n",
       "    <tr>\n",
       "      <th>...</th>\n",
       "      <td>...</td>\n",
       "      <td>...</td>\n",
       "      <td>...</td>\n",
       "      <td>...</td>\n",
       "      <td>...</td>\n",
       "      <td>...</td>\n",
       "      <td>...</td>\n",
       "      <td>...</td>\n",
       "      <td>...</td>\n",
       "      <td>...</td>\n",
       "      <td>...</td>\n",
       "      <td>...</td>\n",
       "      <td>...</td>\n",
       "      <td>...</td>\n",
       "      <td>...</td>\n",
       "    </tr>\n",
       "    <tr>\n",
       "      <th>886</th>\n",
       "      <td>887</td>\n",
       "      <td>0</td>\n",
       "      <td>2</td>\n",
       "      <td>Montvila, Rev. Juozas</td>\n",
       "      <td>male</td>\n",
       "      <td>27.0</td>\n",
       "      <td>0</td>\n",
       "      <td>0</td>\n",
       "      <td>211536</td>\n",
       "      <td>13.0000</td>\n",
       "      <td>NaN</td>\n",
       "      <td>S</td>\n",
       "      <td>Rev</td>\n",
       "      <td>O</td>\n",
       "      <td>211536.0</td>\n",
       "    </tr>\n",
       "    <tr>\n",
       "      <th>887</th>\n",
       "      <td>888</td>\n",
       "      <td>1</td>\n",
       "      <td>1</td>\n",
       "      <td>Graham, Miss. Margaret Edith</td>\n",
       "      <td>female</td>\n",
       "      <td>19.0</td>\n",
       "      <td>0</td>\n",
       "      <td>0</td>\n",
       "      <td>112053</td>\n",
       "      <td>30.0000</td>\n",
       "      <td>B42</td>\n",
       "      <td>S</td>\n",
       "      <td>Miss</td>\n",
       "      <td>O</td>\n",
       "      <td>112053.0</td>\n",
       "    </tr>\n",
       "    <tr>\n",
       "      <th>888</th>\n",
       "      <td>889</td>\n",
       "      <td>0</td>\n",
       "      <td>3</td>\n",
       "      <td>Johnston, Miss. Catherine Helen \"Carrie\"</td>\n",
       "      <td>female</td>\n",
       "      <td>NaN</td>\n",
       "      <td>1</td>\n",
       "      <td>2</td>\n",
       "      <td>W./C.6607</td>\n",
       "      <td>23.4500</td>\n",
       "      <td>NaN</td>\n",
       "      <td>S</td>\n",
       "      <td>Miss</td>\n",
       "      <td>W./C.</td>\n",
       "      <td>6607.0</td>\n",
       "    </tr>\n",
       "    <tr>\n",
       "      <th>889</th>\n",
       "      <td>890</td>\n",
       "      <td>1</td>\n",
       "      <td>1</td>\n",
       "      <td>Behr, Mr. Karl Howell</td>\n",
       "      <td>male</td>\n",
       "      <td>26.0</td>\n",
       "      <td>0</td>\n",
       "      <td>0</td>\n",
       "      <td>111369</td>\n",
       "      <td>30.0000</td>\n",
       "      <td>C148</td>\n",
       "      <td>C</td>\n",
       "      <td>Mr</td>\n",
       "      <td>O</td>\n",
       "      <td>111369.0</td>\n",
       "    </tr>\n",
       "    <tr>\n",
       "      <th>890</th>\n",
       "      <td>891</td>\n",
       "      <td>0</td>\n",
       "      <td>3</td>\n",
       "      <td>Dooley, Mr. Patrick</td>\n",
       "      <td>male</td>\n",
       "      <td>32.0</td>\n",
       "      <td>0</td>\n",
       "      <td>0</td>\n",
       "      <td>370376</td>\n",
       "      <td>7.7500</td>\n",
       "      <td>NaN</td>\n",
       "      <td>Q</td>\n",
       "      <td>Mr</td>\n",
       "      <td>O</td>\n",
       "      <td>370376.0</td>\n",
       "    </tr>\n",
       "  </tbody>\n",
       "</table>\n",
       "<p>891 rows × 15 columns</p>\n",
       "</div>"
      ],
      "text/plain": [
       "     PassengerId  Survived  Pclass  \\\n",
       "0              1         0       3   \n",
       "1              2         1       1   \n",
       "2              3         1       3   \n",
       "3              4         1       1   \n",
       "4              5         0       3   \n",
       "..           ...       ...     ...   \n",
       "886          887         0       2   \n",
       "887          888         1       1   \n",
       "888          889         0       3   \n",
       "889          890         1       1   \n",
       "890          891         0       3   \n",
       "\n",
       "                                                  Name     Sex   Age  SibSp  \\\n",
       "0                              Braund, Mr. Owen Harris    male  22.0      1   \n",
       "1    Cumings, Mrs. John Bradley (Florence Briggs Th...  female  38.0      1   \n",
       "2                               Heikkinen, Miss. Laina  female  26.0      0   \n",
       "3         Futrelle, Mrs. Jacques Heath (Lily May Peel)  female  35.0      1   \n",
       "4                             Allen, Mr. William Henry    male  35.0      0   \n",
       "..                                                 ...     ...   ...    ...   \n",
       "886                              Montvila, Rev. Juozas    male  27.0      0   \n",
       "887                       Graham, Miss. Margaret Edith  female  19.0      0   \n",
       "888           Johnston, Miss. Catherine Helen \"Carrie\"  female   NaN      1   \n",
       "889                              Behr, Mr. Karl Howell    male  26.0      0   \n",
       "890                                Dooley, Mr. Patrick    male  32.0      0   \n",
       "\n",
       "     Parch           Ticket     Fare Cabin Embarked Title TicketPrefix  \\\n",
       "0        0         A/521171   7.2500   NaN        S    Mr           A/   \n",
       "1        0          PC17599  71.2833   C85        C   Mrs           PC   \n",
       "2        0  STON/O2.3101282   7.9250   NaN        S  Miss       STON/O   \n",
       "3        0           113803  53.1000  C123        S   Mrs            O   \n",
       "4        0           373450   8.0500   NaN        S    Mr            O   \n",
       "..     ...              ...      ...   ...      ...   ...          ...   \n",
       "886      0           211536  13.0000   NaN        S   Rev            O   \n",
       "887      0           112053  30.0000   B42        S  Miss            O   \n",
       "888      2        W./C.6607  23.4500   NaN        S  Miss        W./C.   \n",
       "889      0           111369  30.0000  C148        C    Mr            O   \n",
       "890      0           370376   7.7500   NaN        Q    Mr            O   \n",
       "\n",
       "     TicketNumber  \n",
       "0        521171.0  \n",
       "1         17599.0  \n",
       "2             2.0  \n",
       "3        113803.0  \n",
       "4        373450.0  \n",
       "..            ...  \n",
       "886      211536.0  \n",
       "887      112053.0  \n",
       "888        6607.0  \n",
       "889      111369.0  \n",
       "890      370376.0  \n",
       "\n",
       "[891 rows x 15 columns]"
      ]
     },
     "execution_count": 25,
     "metadata": {},
     "output_type": "execute_result"
    }
   ],
   "source": [
    "(\n",
    "    train\n",
    "    .assign(\n",
    "        Ticket=lambda df_: (\n",
    "            df_\n",
    "            .Ticket\n",
    "            .str.replace(' ' , \"\") \n",
    "        ),\n",
    "        TicketPrefix = lambda df_: (\n",
    "            df_ \n",
    "            .Ticket\n",
    "            .str.extract(r'([A-Za-z\\/\\.]+)',expand=False).str.strip()\n",
    "            .fillna('O')\n",
    "        ),\n",
    "        TicketNumber = lambda df_ : (\n",
    "            df_\n",
    "            .Ticket\n",
    "            .str.extract(r'(\\d+)', expand=False)\n",
    "            .astype(float)\n",
    "            .fillna(0)\n",
    "        )\n",
    "            \n",
    "    )\n",
    "\n",
    ")\n"
   ]
  },
  {
   "cell_type": "markdown",
   "id": "ebea2ecd",
   "metadata": {
    "papermill": {
     "duration": 0.013734,
     "end_time": "2024-05-21T21:09:07.770414",
     "exception": false,
     "start_time": "2024-05-21T21:09:07.756680",
     "status": "completed"
    },
    "tags": []
   },
   "source": [
    "## Fare"
   ]
  },
  {
   "cell_type": "code",
   "execution_count": 26,
   "id": "612f1de9",
   "metadata": {
    "execution": {
     "iopub.execute_input": "2024-05-21T21:09:07.800506Z",
     "iopub.status.busy": "2024-05-21T21:09:07.800130Z",
     "iopub.status.idle": "2024-05-21T21:09:07.807540Z",
     "shell.execute_reply": "2024-05-21T21:09:07.806812Z"
    },
    "papermill": {
     "duration": 0.024633,
     "end_time": "2024-05-21T21:09:07.809386",
     "exception": false,
     "start_time": "2024-05-21T21:09:07.784753",
     "status": "completed"
    },
    "tags": []
   },
   "outputs": [
    {
     "data": {
      "text/plain": [
       "0       7.2500\n",
       "1      71.2833\n",
       "2       7.9250\n",
       "3      53.1000\n",
       "4       8.0500\n",
       "        ...   \n",
       "886    13.0000\n",
       "887    30.0000\n",
       "888    23.4500\n",
       "889    30.0000\n",
       "890     7.7500\n",
       "Name: Fare, Length: 891, dtype: float64"
      ]
     },
     "execution_count": 26,
     "metadata": {},
     "output_type": "execute_result"
    }
   ],
   "source": [
    "train.Fare"
   ]
  },
  {
   "cell_type": "markdown",
   "id": "7a0c32c3",
   "metadata": {
    "papermill": {
     "duration": 0.014021,
     "end_time": "2024-05-21T21:09:07.837467",
     "exception": false,
     "start_time": "2024-05-21T21:09:07.823446",
     "status": "completed"
    },
    "tags": []
   },
   "source": [
    "Cabin\n"
   ]
  },
  {
   "cell_type": "code",
   "execution_count": 27,
   "id": "48f3d945",
   "metadata": {
    "execution": {
     "iopub.execute_input": "2024-05-21T21:09:07.867959Z",
     "iopub.status.busy": "2024-05-21T21:09:07.867290Z",
     "iopub.status.idle": "2024-05-21T21:09:07.873538Z",
     "shell.execute_reply": "2024-05-21T21:09:07.872811Z"
    },
    "papermill": {
     "duration": 0.023819,
     "end_time": "2024-05-21T21:09:07.875488",
     "exception": false,
     "start_time": "2024-05-21T21:09:07.851669",
     "status": "completed"
    },
    "tags": []
   },
   "outputs": [
    {
     "data": {
      "text/plain": [
       "array([nan, 'C85', 'C123', 'E46', 'G6', 'C103', 'D56', 'A6',\n",
       "       'C23 C25 C27', 'B78', 'D33', 'B30', 'C52', 'B28', 'C83', 'F33',\n",
       "       'F G73', 'E31', 'A5', 'D10 D12', 'D26', 'C110', 'B58 B60', 'E101',\n",
       "       'F E69', 'D47', 'B86', 'F2', 'C2', 'E33', 'B19', 'A7', 'C49', 'F4',\n",
       "       'A32', 'B4', 'B80', 'A31', 'D36', 'D15', 'C93', 'C78', 'D35',\n",
       "       'C87', 'B77', 'E67', 'B94', 'C125', 'C99', 'C118', 'D7', 'A19',\n",
       "       'B49', 'D', 'C22 C26', 'C106', 'C65', 'E36', 'C54',\n",
       "       'B57 B59 B63 B66', 'C7', 'E34', 'C32', 'B18', 'C124', 'C91', 'E40',\n",
       "       'T', 'C128', 'D37', 'B35', 'E50', 'C82', 'B96 B98', 'E10', 'E44',\n",
       "       'A34', 'C104', 'C111', 'C92', 'E38', 'D21', 'E12', 'E63', 'A14',\n",
       "       'B37', 'C30', 'D20', 'B79', 'E25', 'D46', 'B73', 'C95', 'B38',\n",
       "       'B39', 'B22', 'C86', 'C70', 'A16', 'C101', 'C68', 'A10', 'E68',\n",
       "       'B41', 'A20', 'D19', 'D50', 'D9', 'A23', 'B50', 'A26', 'D48',\n",
       "       'E58', 'C126', 'B71', 'B51 B53 B55', 'D49', 'B5', 'B20', 'F G63',\n",
       "       'C62 C64', 'E24', 'C90', 'C45', 'E8', 'B101', 'D45', 'C46', 'D30',\n",
       "       'E121', 'D11', 'E77', 'F38', 'B3', 'D6', 'B82 B84', 'D17', 'A36',\n",
       "       'B102', 'B69', 'E49', 'C47', 'D28', 'E17', 'A24', 'C50', 'B42',\n",
       "       'C148'], dtype=object)"
      ]
     },
     "execution_count": 27,
     "metadata": {},
     "output_type": "execute_result"
    }
   ],
   "source": [
    "train.Cabin.unique()"
   ]
  },
  {
   "cell_type": "markdown",
   "id": "1f59702a",
   "metadata": {
    "papermill": {
     "duration": 0.013756,
     "end_time": "2024-05-21T21:09:07.903562",
     "exception": false,
     "start_time": "2024-05-21T21:09:07.889806",
     "status": "completed"
    },
    "tags": []
   },
   "source": []
  },
  {
   "cell_type": "code",
   "execution_count": 28,
   "id": "4313e2f8",
   "metadata": {
    "execution": {
     "iopub.execute_input": "2024-05-21T21:09:07.933622Z",
     "iopub.status.busy": "2024-05-21T21:09:07.932505Z",
     "iopub.status.idle": "2024-05-21T21:09:07.940162Z",
     "shell.execute_reply": "2024-05-21T21:09:07.939208Z"
    },
    "papermill": {
     "duration": 0.024888,
     "end_time": "2024-05-21T21:09:07.942268",
     "exception": false,
     "start_time": "2024-05-21T21:09:07.917380",
     "status": "completed"
    },
    "tags": []
   },
   "outputs": [
    {
     "data": {
      "text/plain": [
       "array(['S', 'C', 'Q', 'O'], dtype=object)"
      ]
     },
     "execution_count": 28,
     "metadata": {},
     "output_type": "execute_result"
    }
   ],
   "source": [
    "train.Embarked.fillna('O').unique()"
   ]
  },
  {
   "cell_type": "code",
   "execution_count": 29,
   "id": "cd8f2e09",
   "metadata": {
    "execution": {
     "iopub.execute_input": "2024-05-21T21:09:07.973385Z",
     "iopub.status.busy": "2024-05-21T21:09:07.972489Z",
     "iopub.status.idle": "2024-05-21T21:09:07.980189Z",
     "shell.execute_reply": "2024-05-21T21:09:07.979222Z"
    },
    "papermill": {
     "duration": 0.025085,
     "end_time": "2024-05-21T21:09:07.982202",
     "exception": false,
     "start_time": "2024-05-21T21:09:07.957117",
     "status": "completed"
    },
    "tags": []
   },
   "outputs": [
    {
     "data": {
      "text/plain": [
       "PassengerId      0\n",
       "Survived         0\n",
       "Pclass           0\n",
       "Name             0\n",
       "Sex              0\n",
       "Age            177\n",
       "SibSp            0\n",
       "Parch            0\n",
       "Ticket           0\n",
       "Fare             0\n",
       "Cabin          687\n",
       "Embarked         2\n",
       "Title            0\n",
       "dtype: int64"
      ]
     },
     "execution_count": 29,
     "metadata": {},
     "output_type": "execute_result"
    }
   ],
   "source": [
    "train.isna().sum()"
   ]
  },
  {
   "cell_type": "markdown",
   "id": "3deb1f81",
   "metadata": {
    "papermill": {
     "duration": 0.013797,
     "end_time": "2024-05-21T21:09:08.010160",
     "exception": false,
     "start_time": "2024-05-21T21:09:07.996363",
     "status": "completed"
    },
    "tags": []
   },
   "source": [
    "# Conclusion"
   ]
  },
  {
   "cell_type": "markdown",
   "id": "a4ee7aea",
   "metadata": {
    "papermill": {
     "duration": 0.013851,
     "end_time": "2024-05-21T21:09:08.038061",
     "exception": false,
     "start_time": "2024-05-21T21:09:08.024210",
     "status": "completed"
    },
    "tags": []
   },
   "source": [
    "### - need to change the index to PassangerID\n",
    "### - Survived Column looks good \n",
    "### - Pclass column looks also good\n",
    "### - Name column are changed to firstname and lastname\n",
    "### - Sex change to is_male that is integer column\n",
    "### - Age column looks good\n",
    "### - SibSp column looks good\n",
    "### - Parch column looks good\n",
    "### - Extract two rows from Ticket => TicketPrefix and TicketNumber\n",
    "### - Fare columns looks good \n",
    "### - Cabin also looks good \n",
    "### - Embark also looks good \n",
    "\n"
   ]
  },
  {
   "cell_type": "markdown",
   "id": "9f8b94ff",
   "metadata": {
    "papermill": {
     "duration": 0.013621,
     "end_time": "2024-05-21T21:09:08.065699",
     "exception": false,
     "start_time": "2024-05-21T21:09:08.052078",
     "status": "completed"
    },
    "tags": []
   },
   "source": [
    " ## Need to fill the values in the Age and the Cabin\n",
    " "
   ]
  },
  {
   "cell_type": "markdown",
   "id": "e620f11b",
   "metadata": {
    "papermill": {
     "duration": 0.014177,
     "end_time": "2024-05-21T21:09:08.093864",
     "exception": false,
     "start_time": "2024-05-21T21:09:08.079687",
     "status": "completed"
    },
    "tags": []
   },
   "source": [
    "Cleaning Function\n"
   ]
  },
  {
   "cell_type": "code",
   "execution_count": 30,
   "id": "5f7964d8",
   "metadata": {
    "execution": {
     "iopub.execute_input": "2024-05-21T21:09:08.124318Z",
     "iopub.status.busy": "2024-05-21T21:09:08.123654Z",
     "iopub.status.idle": "2024-05-21T21:09:08.152399Z",
     "shell.execute_reply": "2024-05-21T21:09:08.151354Z"
    },
    "papermill": {
     "duration": 0.046941,
     "end_time": "2024-05-21T21:09:08.154770",
     "exception": false,
     "start_time": "2024-05-21T21:09:08.107829",
     "status": "completed"
    },
    "tags": []
   },
   "outputs": [],
   "source": [
    "def is_male(ser):\n",
    "    temp = ser.to_frame()\n",
    "    return (\n",
    "        temp\n",
    "        .assign(is_male=np.select(\n",
    "            [temp.iloc[:, 0] == \"male\", temp.iloc[:, 0] == \"female\"],\n",
    "            [1, 0],\n",
    "            default=-1  \n",
    "        ))\n",
    "    )\n",
    "\n",
    "\n",
    "\n",
    "def clean_data(df):\n",
    "    return (\n",
    "        df\n",
    "        .drop_duplicates()\n",
    "        .assign(\n",
    "            Title= lambda df_ : (\n",
    "                        df_\n",
    "                        .Name\n",
    "                      .str.split(',')\n",
    "                      .str[1]\n",
    "                      .str.split('.')\n",
    "                      .str[0]\n",
    "                      .str.strip()\n",
    "            ),\n",
    "            lastname=lambda df_: (\n",
    "                df_\n",
    "                .Name\n",
    "                .str.split(\",\")\n",
    "                .str[0]\n",
    "                .str.strip()\n",
    "            ),\n",
    "            firstname=lambda df_: (\n",
    "                df_\n",
    "                .Name\n",
    "                .str.split(\",\")\n",
    "                .str[1]\n",
    "                .str.split(\"(\")\n",
    "                .str[0]\n",
    "                .str.replace(r'(Mr\\.|Mrs\\.|Miss\\.|Master\\.)', '', regex=True)\n",
    "                .str.strip()\n",
    "            ),\n",
    "             Ticket=lambda df_: (\n",
    "            df_\n",
    "            .Ticket\n",
    "            .str.replace(' ' , \"\") \n",
    "            ),\n",
    "            TicketPrefix = lambda df_: (\n",
    "                df_ \n",
    "                .Ticket\n",
    "                .str.extract(r'([A-Za-z\\/\\.]+)',expand=False).str.strip()\n",
    "                .fillna('O')\n",
    "            ),\n",
    "            TicketNumber = lambda df_ : (\n",
    "                df_\n",
    "                .Ticket\n",
    "                .str.extract(r'(\\d+)', expand=False)\n",
    "                .astype(float)\n",
    "                .fillna(0)\n",
    "            ),     \n",
    "        )\n",
    "        .drop('Name', axis=1)\n",
    "        .set_index('PassengerId')\n",
    "    )\n",
    "cleaned_train = clean_data(train)"
   ]
  },
  {
   "cell_type": "code",
   "execution_count": 31,
   "id": "e665075d",
   "metadata": {
    "execution": {
     "iopub.execute_input": "2024-05-21T21:09:08.184939Z",
     "iopub.status.busy": "2024-05-21T21:09:08.184319Z",
     "iopub.status.idle": "2024-05-21T21:09:08.233645Z",
     "shell.execute_reply": "2024-05-21T21:09:08.232890Z"
    },
    "papermill": {
     "duration": 0.066586,
     "end_time": "2024-05-21T21:09:08.235678",
     "exception": false,
     "start_time": "2024-05-21T21:09:08.169092",
     "status": "completed"
    },
    "tags": []
   },
   "outputs": [
    {
     "data": {
      "text/html": [
       "<div>\n",
       "<style scoped>\n",
       "    .dataframe tbody tr th:only-of-type {\n",
       "        vertical-align: middle;\n",
       "    }\n",
       "\n",
       "    .dataframe tbody tr th {\n",
       "        vertical-align: top;\n",
       "    }\n",
       "\n",
       "    .dataframe thead th {\n",
       "        text-align: right;\n",
       "    }\n",
       "</style>\n",
       "<table border=\"1\" class=\"dataframe\">\n",
       "  <thead>\n",
       "    <tr style=\"text-align: right;\">\n",
       "      <th></th>\n",
       "      <th>Pclass</th>\n",
       "      <th>Sex</th>\n",
       "      <th>Age</th>\n",
       "      <th>SibSp</th>\n",
       "      <th>Parch</th>\n",
       "      <th>Ticket</th>\n",
       "      <th>Fare</th>\n",
       "      <th>Cabin</th>\n",
       "      <th>Embarked</th>\n",
       "      <th>Title</th>\n",
       "      <th>lastname</th>\n",
       "      <th>firstname</th>\n",
       "      <th>TicketPrefix</th>\n",
       "      <th>TicketNumber</th>\n",
       "    </tr>\n",
       "    <tr>\n",
       "      <th>PassengerId</th>\n",
       "      <th></th>\n",
       "      <th></th>\n",
       "      <th></th>\n",
       "      <th></th>\n",
       "      <th></th>\n",
       "      <th></th>\n",
       "      <th></th>\n",
       "      <th></th>\n",
       "      <th></th>\n",
       "      <th></th>\n",
       "      <th></th>\n",
       "      <th></th>\n",
       "      <th></th>\n",
       "      <th></th>\n",
       "    </tr>\n",
       "  </thead>\n",
       "  <tbody>\n",
       "    <tr>\n",
       "      <th>892</th>\n",
       "      <td>3</td>\n",
       "      <td>male</td>\n",
       "      <td>34.5</td>\n",
       "      <td>0</td>\n",
       "      <td>0</td>\n",
       "      <td>330911</td>\n",
       "      <td>7.8292</td>\n",
       "      <td>NaN</td>\n",
       "      <td>Q</td>\n",
       "      <td>Mr</td>\n",
       "      <td>Kelly</td>\n",
       "      <td>James</td>\n",
       "      <td>O</td>\n",
       "      <td>330911.0</td>\n",
       "    </tr>\n",
       "    <tr>\n",
       "      <th>893</th>\n",
       "      <td>3</td>\n",
       "      <td>female</td>\n",
       "      <td>47.0</td>\n",
       "      <td>1</td>\n",
       "      <td>0</td>\n",
       "      <td>363272</td>\n",
       "      <td>7.0000</td>\n",
       "      <td>NaN</td>\n",
       "      <td>S</td>\n",
       "      <td>Mrs</td>\n",
       "      <td>Wilkes</td>\n",
       "      <td>James</td>\n",
       "      <td>O</td>\n",
       "      <td>363272.0</td>\n",
       "    </tr>\n",
       "    <tr>\n",
       "      <th>894</th>\n",
       "      <td>2</td>\n",
       "      <td>male</td>\n",
       "      <td>62.0</td>\n",
       "      <td>0</td>\n",
       "      <td>0</td>\n",
       "      <td>240276</td>\n",
       "      <td>9.6875</td>\n",
       "      <td>NaN</td>\n",
       "      <td>Q</td>\n",
       "      <td>Mr</td>\n",
       "      <td>Myles</td>\n",
       "      <td>Thomas Francis</td>\n",
       "      <td>O</td>\n",
       "      <td>240276.0</td>\n",
       "    </tr>\n",
       "    <tr>\n",
       "      <th>895</th>\n",
       "      <td>3</td>\n",
       "      <td>male</td>\n",
       "      <td>27.0</td>\n",
       "      <td>0</td>\n",
       "      <td>0</td>\n",
       "      <td>315154</td>\n",
       "      <td>8.6625</td>\n",
       "      <td>NaN</td>\n",
       "      <td>S</td>\n",
       "      <td>Mr</td>\n",
       "      <td>Wirz</td>\n",
       "      <td>Albert</td>\n",
       "      <td>O</td>\n",
       "      <td>315154.0</td>\n",
       "    </tr>\n",
       "    <tr>\n",
       "      <th>896</th>\n",
       "      <td>3</td>\n",
       "      <td>female</td>\n",
       "      <td>22.0</td>\n",
       "      <td>1</td>\n",
       "      <td>1</td>\n",
       "      <td>3101298</td>\n",
       "      <td>12.2875</td>\n",
       "      <td>NaN</td>\n",
       "      <td>S</td>\n",
       "      <td>Mrs</td>\n",
       "      <td>Hirvonen</td>\n",
       "      <td>Alexander</td>\n",
       "      <td>O</td>\n",
       "      <td>3101298.0</td>\n",
       "    </tr>\n",
       "    <tr>\n",
       "      <th>...</th>\n",
       "      <td>...</td>\n",
       "      <td>...</td>\n",
       "      <td>...</td>\n",
       "      <td>...</td>\n",
       "      <td>...</td>\n",
       "      <td>...</td>\n",
       "      <td>...</td>\n",
       "      <td>...</td>\n",
       "      <td>...</td>\n",
       "      <td>...</td>\n",
       "      <td>...</td>\n",
       "      <td>...</td>\n",
       "      <td>...</td>\n",
       "      <td>...</td>\n",
       "    </tr>\n",
       "    <tr>\n",
       "      <th>1305</th>\n",
       "      <td>3</td>\n",
       "      <td>male</td>\n",
       "      <td>NaN</td>\n",
       "      <td>0</td>\n",
       "      <td>0</td>\n",
       "      <td>A.5.3236</td>\n",
       "      <td>8.0500</td>\n",
       "      <td>NaN</td>\n",
       "      <td>S</td>\n",
       "      <td>Mr</td>\n",
       "      <td>Spector</td>\n",
       "      <td>Woolf</td>\n",
       "      <td>A.</td>\n",
       "      <td>5.0</td>\n",
       "    </tr>\n",
       "    <tr>\n",
       "      <th>1306</th>\n",
       "      <td>1</td>\n",
       "      <td>female</td>\n",
       "      <td>39.0</td>\n",
       "      <td>0</td>\n",
       "      <td>0</td>\n",
       "      <td>PC17758</td>\n",
       "      <td>108.9000</td>\n",
       "      <td>C105</td>\n",
       "      <td>C</td>\n",
       "      <td>Dona</td>\n",
       "      <td>Oliva y Ocana</td>\n",
       "      <td>Dona. Fermina</td>\n",
       "      <td>PC</td>\n",
       "      <td>17758.0</td>\n",
       "    </tr>\n",
       "    <tr>\n",
       "      <th>1307</th>\n",
       "      <td>3</td>\n",
       "      <td>male</td>\n",
       "      <td>38.5</td>\n",
       "      <td>0</td>\n",
       "      <td>0</td>\n",
       "      <td>SOTON/O.Q.3101262</td>\n",
       "      <td>7.2500</td>\n",
       "      <td>NaN</td>\n",
       "      <td>S</td>\n",
       "      <td>Mr</td>\n",
       "      <td>Saether</td>\n",
       "      <td>Simon Sivertsen</td>\n",
       "      <td>SOTON/O.Q.</td>\n",
       "      <td>3101262.0</td>\n",
       "    </tr>\n",
       "    <tr>\n",
       "      <th>1308</th>\n",
       "      <td>3</td>\n",
       "      <td>male</td>\n",
       "      <td>NaN</td>\n",
       "      <td>0</td>\n",
       "      <td>0</td>\n",
       "      <td>359309</td>\n",
       "      <td>8.0500</td>\n",
       "      <td>NaN</td>\n",
       "      <td>S</td>\n",
       "      <td>Mr</td>\n",
       "      <td>Ware</td>\n",
       "      <td>Frederick</td>\n",
       "      <td>O</td>\n",
       "      <td>359309.0</td>\n",
       "    </tr>\n",
       "    <tr>\n",
       "      <th>1309</th>\n",
       "      <td>3</td>\n",
       "      <td>male</td>\n",
       "      <td>NaN</td>\n",
       "      <td>1</td>\n",
       "      <td>1</td>\n",
       "      <td>2668</td>\n",
       "      <td>22.3583</td>\n",
       "      <td>NaN</td>\n",
       "      <td>C</td>\n",
       "      <td>Master</td>\n",
       "      <td>Peter</td>\n",
       "      <td>Michael J</td>\n",
       "      <td>O</td>\n",
       "      <td>2668.0</td>\n",
       "    </tr>\n",
       "  </tbody>\n",
       "</table>\n",
       "<p>418 rows × 14 columns</p>\n",
       "</div>"
      ],
      "text/plain": [
       "             Pclass     Sex   Age  SibSp  Parch             Ticket      Fare  \\\n",
       "PassengerId                                                                    \n",
       "892               3    male  34.5      0      0             330911    7.8292   \n",
       "893               3  female  47.0      1      0             363272    7.0000   \n",
       "894               2    male  62.0      0      0             240276    9.6875   \n",
       "895               3    male  27.0      0      0             315154    8.6625   \n",
       "896               3  female  22.0      1      1            3101298   12.2875   \n",
       "...             ...     ...   ...    ...    ...                ...       ...   \n",
       "1305              3    male   NaN      0      0           A.5.3236    8.0500   \n",
       "1306              1  female  39.0      0      0            PC17758  108.9000   \n",
       "1307              3    male  38.5      0      0  SOTON/O.Q.3101262    7.2500   \n",
       "1308              3    male   NaN      0      0             359309    8.0500   \n",
       "1309              3    male   NaN      1      1               2668   22.3583   \n",
       "\n",
       "            Cabin Embarked   Title       lastname        firstname  \\\n",
       "PassengerId                                                          \n",
       "892           NaN        Q      Mr          Kelly            James   \n",
       "893           NaN        S     Mrs         Wilkes            James   \n",
       "894           NaN        Q      Mr          Myles   Thomas Francis   \n",
       "895           NaN        S      Mr           Wirz           Albert   \n",
       "896           NaN        S     Mrs       Hirvonen        Alexander   \n",
       "...           ...      ...     ...            ...              ...   \n",
       "1305          NaN        S      Mr        Spector            Woolf   \n",
       "1306         C105        C    Dona  Oliva y Ocana    Dona. Fermina   \n",
       "1307          NaN        S      Mr        Saether  Simon Sivertsen   \n",
       "1308          NaN        S      Mr           Ware        Frederick   \n",
       "1309          NaN        C  Master          Peter        Michael J   \n",
       "\n",
       "            TicketPrefix  TicketNumber  \n",
       "PassengerId                             \n",
       "892                    O      330911.0  \n",
       "893                    O      363272.0  \n",
       "894                    O      240276.0  \n",
       "895                    O      315154.0  \n",
       "896                    O     3101298.0  \n",
       "...                  ...           ...  \n",
       "1305                  A.           5.0  \n",
       "1306                  PC       17758.0  \n",
       "1307          SOTON/O.Q.     3101262.0  \n",
       "1308                   O      359309.0  \n",
       "1309                   O        2668.0  \n",
       "\n",
       "[418 rows x 14 columns]"
      ]
     },
     "execution_count": 31,
     "metadata": {},
     "output_type": "execute_result"
    }
   ],
   "source": [
    "test = get_data(\"test\")\n",
    "\n",
    "cleaned_test = clean_data(test)\n",
    "cleaned_test"
   ]
  },
  {
   "cell_type": "code",
   "execution_count": 32,
   "id": "68834020",
   "metadata": {
    "execution": {
     "iopub.execute_input": "2024-05-21T21:09:08.266257Z",
     "iopub.status.busy": "2024-05-21T21:09:08.265861Z",
     "iopub.status.idle": "2024-05-21T21:09:08.286373Z",
     "shell.execute_reply": "2024-05-21T21:09:08.285349Z"
    },
    "papermill": {
     "duration": 0.038766,
     "end_time": "2024-05-21T21:09:08.288972",
     "exception": false,
     "start_time": "2024-05-21T21:09:08.250206",
     "status": "completed"
    },
    "tags": []
   },
   "outputs": [
    {
     "data": {
      "text/html": [
       "<div>\n",
       "<style scoped>\n",
       "    .dataframe tbody tr th:only-of-type {\n",
       "        vertical-align: middle;\n",
       "    }\n",
       "\n",
       "    .dataframe tbody tr th {\n",
       "        vertical-align: top;\n",
       "    }\n",
       "\n",
       "    .dataframe thead th {\n",
       "        text-align: right;\n",
       "    }\n",
       "</style>\n",
       "<table border=\"1\" class=\"dataframe\">\n",
       "  <thead>\n",
       "    <tr style=\"text-align: right;\">\n",
       "      <th></th>\n",
       "      <th>Pclass</th>\n",
       "      <th>Sex</th>\n",
       "      <th>Age</th>\n",
       "      <th>SibSp</th>\n",
       "      <th>Parch</th>\n",
       "      <th>Ticket</th>\n",
       "      <th>Fare</th>\n",
       "      <th>Cabin</th>\n",
       "      <th>Embarked</th>\n",
       "      <th>Title</th>\n",
       "      <th>lastname</th>\n",
       "      <th>firstname</th>\n",
       "      <th>TicketPrefix</th>\n",
       "      <th>TicketNumber</th>\n",
       "    </tr>\n",
       "    <tr>\n",
       "      <th>PassengerId</th>\n",
       "      <th></th>\n",
       "      <th></th>\n",
       "      <th></th>\n",
       "      <th></th>\n",
       "      <th></th>\n",
       "      <th></th>\n",
       "      <th></th>\n",
       "      <th></th>\n",
       "      <th></th>\n",
       "      <th></th>\n",
       "      <th></th>\n",
       "      <th></th>\n",
       "      <th></th>\n",
       "      <th></th>\n",
       "    </tr>\n",
       "  </thead>\n",
       "  <tbody>\n",
       "    <tr>\n",
       "      <th>892</th>\n",
       "      <td>3</td>\n",
       "      <td>male</td>\n",
       "      <td>34.5</td>\n",
       "      <td>0</td>\n",
       "      <td>0</td>\n",
       "      <td>330911</td>\n",
       "      <td>7.8292</td>\n",
       "      <td>NaN</td>\n",
       "      <td>Q</td>\n",
       "      <td>Mr</td>\n",
       "      <td>Kelly</td>\n",
       "      <td>James</td>\n",
       "      <td>O</td>\n",
       "      <td>330911.0</td>\n",
       "    </tr>\n",
       "    <tr>\n",
       "      <th>893</th>\n",
       "      <td>3</td>\n",
       "      <td>female</td>\n",
       "      <td>47.0</td>\n",
       "      <td>1</td>\n",
       "      <td>0</td>\n",
       "      <td>363272</td>\n",
       "      <td>7.0000</td>\n",
       "      <td>NaN</td>\n",
       "      <td>S</td>\n",
       "      <td>Mrs</td>\n",
       "      <td>Wilkes</td>\n",
       "      <td>James</td>\n",
       "      <td>O</td>\n",
       "      <td>363272.0</td>\n",
       "    </tr>\n",
       "    <tr>\n",
       "      <th>894</th>\n",
       "      <td>2</td>\n",
       "      <td>male</td>\n",
       "      <td>62.0</td>\n",
       "      <td>0</td>\n",
       "      <td>0</td>\n",
       "      <td>240276</td>\n",
       "      <td>9.6875</td>\n",
       "      <td>NaN</td>\n",
       "      <td>Q</td>\n",
       "      <td>Mr</td>\n",
       "      <td>Myles</td>\n",
       "      <td>Thomas Francis</td>\n",
       "      <td>O</td>\n",
       "      <td>240276.0</td>\n",
       "    </tr>\n",
       "    <tr>\n",
       "      <th>895</th>\n",
       "      <td>3</td>\n",
       "      <td>male</td>\n",
       "      <td>27.0</td>\n",
       "      <td>0</td>\n",
       "      <td>0</td>\n",
       "      <td>315154</td>\n",
       "      <td>8.6625</td>\n",
       "      <td>NaN</td>\n",
       "      <td>S</td>\n",
       "      <td>Mr</td>\n",
       "      <td>Wirz</td>\n",
       "      <td>Albert</td>\n",
       "      <td>O</td>\n",
       "      <td>315154.0</td>\n",
       "    </tr>\n",
       "    <tr>\n",
       "      <th>896</th>\n",
       "      <td>3</td>\n",
       "      <td>female</td>\n",
       "      <td>22.0</td>\n",
       "      <td>1</td>\n",
       "      <td>1</td>\n",
       "      <td>3101298</td>\n",
       "      <td>12.2875</td>\n",
       "      <td>NaN</td>\n",
       "      <td>S</td>\n",
       "      <td>Mrs</td>\n",
       "      <td>Hirvonen</td>\n",
       "      <td>Alexander</td>\n",
       "      <td>O</td>\n",
       "      <td>3101298.0</td>\n",
       "    </tr>\n",
       "    <tr>\n",
       "      <th>...</th>\n",
       "      <td>...</td>\n",
       "      <td>...</td>\n",
       "      <td>...</td>\n",
       "      <td>...</td>\n",
       "      <td>...</td>\n",
       "      <td>...</td>\n",
       "      <td>...</td>\n",
       "      <td>...</td>\n",
       "      <td>...</td>\n",
       "      <td>...</td>\n",
       "      <td>...</td>\n",
       "      <td>...</td>\n",
       "      <td>...</td>\n",
       "      <td>...</td>\n",
       "    </tr>\n",
       "    <tr>\n",
       "      <th>1305</th>\n",
       "      <td>3</td>\n",
       "      <td>male</td>\n",
       "      <td>NaN</td>\n",
       "      <td>0</td>\n",
       "      <td>0</td>\n",
       "      <td>A.5.3236</td>\n",
       "      <td>8.0500</td>\n",
       "      <td>NaN</td>\n",
       "      <td>S</td>\n",
       "      <td>Mr</td>\n",
       "      <td>Spector</td>\n",
       "      <td>Woolf</td>\n",
       "      <td>A.</td>\n",
       "      <td>5.0</td>\n",
       "    </tr>\n",
       "    <tr>\n",
       "      <th>1306</th>\n",
       "      <td>1</td>\n",
       "      <td>female</td>\n",
       "      <td>39.0</td>\n",
       "      <td>0</td>\n",
       "      <td>0</td>\n",
       "      <td>PC17758</td>\n",
       "      <td>108.9000</td>\n",
       "      <td>C105</td>\n",
       "      <td>C</td>\n",
       "      <td>Dona</td>\n",
       "      <td>Oliva y Ocana</td>\n",
       "      <td>Dona. Fermina</td>\n",
       "      <td>PC</td>\n",
       "      <td>17758.0</td>\n",
       "    </tr>\n",
       "    <tr>\n",
       "      <th>1307</th>\n",
       "      <td>3</td>\n",
       "      <td>male</td>\n",
       "      <td>38.5</td>\n",
       "      <td>0</td>\n",
       "      <td>0</td>\n",
       "      <td>SOTON/O.Q.3101262</td>\n",
       "      <td>7.2500</td>\n",
       "      <td>NaN</td>\n",
       "      <td>S</td>\n",
       "      <td>Mr</td>\n",
       "      <td>Saether</td>\n",
       "      <td>Simon Sivertsen</td>\n",
       "      <td>SOTON/O.Q.</td>\n",
       "      <td>3101262.0</td>\n",
       "    </tr>\n",
       "    <tr>\n",
       "      <th>1308</th>\n",
       "      <td>3</td>\n",
       "      <td>male</td>\n",
       "      <td>NaN</td>\n",
       "      <td>0</td>\n",
       "      <td>0</td>\n",
       "      <td>359309</td>\n",
       "      <td>8.0500</td>\n",
       "      <td>NaN</td>\n",
       "      <td>S</td>\n",
       "      <td>Mr</td>\n",
       "      <td>Ware</td>\n",
       "      <td>Frederick</td>\n",
       "      <td>O</td>\n",
       "      <td>359309.0</td>\n",
       "    </tr>\n",
       "    <tr>\n",
       "      <th>1309</th>\n",
       "      <td>3</td>\n",
       "      <td>male</td>\n",
       "      <td>NaN</td>\n",
       "      <td>1</td>\n",
       "      <td>1</td>\n",
       "      <td>2668</td>\n",
       "      <td>22.3583</td>\n",
       "      <td>NaN</td>\n",
       "      <td>C</td>\n",
       "      <td>Master</td>\n",
       "      <td>Peter</td>\n",
       "      <td>Michael J</td>\n",
       "      <td>O</td>\n",
       "      <td>2668.0</td>\n",
       "    </tr>\n",
       "  </tbody>\n",
       "</table>\n",
       "<p>418 rows × 14 columns</p>\n",
       "</div>"
      ],
      "text/plain": [
       "             Pclass     Sex   Age  SibSp  Parch             Ticket      Fare  \\\n",
       "PassengerId                                                                    \n",
       "892               3    male  34.5      0      0             330911    7.8292   \n",
       "893               3  female  47.0      1      0             363272    7.0000   \n",
       "894               2    male  62.0      0      0             240276    9.6875   \n",
       "895               3    male  27.0      0      0             315154    8.6625   \n",
       "896               3  female  22.0      1      1            3101298   12.2875   \n",
       "...             ...     ...   ...    ...    ...                ...       ...   \n",
       "1305              3    male   NaN      0      0           A.5.3236    8.0500   \n",
       "1306              1  female  39.0      0      0            PC17758  108.9000   \n",
       "1307              3    male  38.5      0      0  SOTON/O.Q.3101262    7.2500   \n",
       "1308              3    male   NaN      0      0             359309    8.0500   \n",
       "1309              3    male   NaN      1      1               2668   22.3583   \n",
       "\n",
       "            Cabin Embarked   Title       lastname        firstname  \\\n",
       "PassengerId                                                          \n",
       "892           NaN        Q      Mr          Kelly            James   \n",
       "893           NaN        S     Mrs         Wilkes            James   \n",
       "894           NaN        Q      Mr          Myles   Thomas Francis   \n",
       "895           NaN        S      Mr           Wirz           Albert   \n",
       "896           NaN        S     Mrs       Hirvonen        Alexander   \n",
       "...           ...      ...     ...            ...              ...   \n",
       "1305          NaN        S      Mr        Spector            Woolf   \n",
       "1306         C105        C    Dona  Oliva y Ocana    Dona. Fermina   \n",
       "1307          NaN        S      Mr        Saether  Simon Sivertsen   \n",
       "1308          NaN        S      Mr           Ware        Frederick   \n",
       "1309          NaN        C  Master          Peter        Michael J   \n",
       "\n",
       "            TicketPrefix  TicketNumber  \n",
       "PassengerId                             \n",
       "892                    O      330911.0  \n",
       "893                    O      363272.0  \n",
       "894                    O      240276.0  \n",
       "895                    O      315154.0  \n",
       "896                    O     3101298.0  \n",
       "...                  ...           ...  \n",
       "1305                  A.           5.0  \n",
       "1306                  PC       17758.0  \n",
       "1307          SOTON/O.Q.     3101262.0  \n",
       "1308                   O      359309.0  \n",
       "1309                   O        2668.0  \n",
       "\n",
       "[418 rows x 14 columns]"
      ]
     },
     "execution_count": 32,
     "metadata": {},
     "output_type": "execute_result"
    }
   ],
   "source": [
    "cleaned_train\n",
    "cleaned_test"
   ]
  }
 ],
 "metadata": {
  "kaggle": {
   "accelerator": "none",
   "dataSources": [
    {
     "databundleVersionId": 26502,
     "sourceId": 3136,
     "sourceType": "competition"
    },
    {
     "datasetId": 5056593,
     "sourceId": 8478399,
     "sourceType": "datasetVersion"
    }
   ],
   "dockerImageVersionId": 30698,
   "isGpuEnabled": false,
   "isInternetEnabled": false,
   "language": "python",
   "sourceType": "notebook"
  },
  "kernelspec": {
   "display_name": "Python 3",
   "language": "python",
   "name": "python3"
  },
  "language_info": {
   "codemirror_mode": {
    "name": "ipython",
    "version": 3
   },
   "file_extension": ".py",
   "mimetype": "text/x-python",
   "name": "python",
   "nbconvert_exporter": "python",
   "pygments_lexer": "ipython3",
   "version": "3.10.13"
  },
  "papermill": {
   "default_parameters": {},
   "duration": 9.042355,
   "end_time": "2024-05-21T21:09:11.865811",
   "environment_variables": {},
   "exception": null,
   "input_path": "__notebook__.ipynb",
   "output_path": "__notebook__.ipynb",
   "parameters": {},
   "start_time": "2024-05-21T21:09:02.823456",
   "version": "2.5.0"
  }
 },
 "nbformat": 4,
 "nbformat_minor": 5
}
