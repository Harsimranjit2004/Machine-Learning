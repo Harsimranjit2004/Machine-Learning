{
 "cells": [
  {
   "cell_type": "code",
   "execution_count": 2,
   "metadata": {},
   "outputs": [],
   "source": [
    "from selenium import webdriver\n",
    "from selenium.webdriver.chrome.service import Service\n",
    "from selenium.webdriver.common.by import By\n",
    "import time"
   ]
  },
  {
   "cell_type": "code",
   "execution_count": 7,
   "metadata": {},
   "outputs": [
    {
     "name": "stderr",
     "output_type": "stream",
     "text": [
      "The chromedriver version (120.0.6099.109) detected in PATH at /usr/local/bin/chromedriver might not be compatible with the detected chrome version (121.0.6167.160); currently, chromedriver 121.0.6167.85 is recommended for chrome 121.*, so it is advised to delete the driver in PATH and retry\n"
     ]
    },
    {
     "name": "stdout",
     "output_type": "stream",
     "text": [
      "13928\n",
      "8328\n",
      "19527\n",
      "13928\n",
      "25157\n",
      "19527\n",
      "30796\n",
      "25157\n",
      "36441\n",
      "30796\n",
      "41996\n",
      "36441\n",
      "47670\n",
      "41996\n",
      "53342\n",
      "47670\n",
      "58974\n",
      "53342\n",
      "64609\n",
      "58974\n",
      "70129\n",
      "64609\n",
      "75774\n",
      "70129\n",
      "81321\n",
      "75774\n",
      "86966\n",
      "81321\n",
      "92595\n",
      "86966\n",
      "98093\n",
      "92595\n",
      "103631\n",
      "98093\n",
      "109171\n",
      "103631\n",
      "114709\n",
      "109171\n",
      "120316\n",
      "114709\n",
      "125797\n",
      "120316\n",
      "131372\n",
      "125797\n",
      "136964\n",
      "131372\n",
      "142559\n",
      "136964\n",
      "147958\n",
      "142559\n",
      "147958\n",
      "147958\n"
     ]
    }
   ],
   "source": [
    "s = Service()\n",
    "\n",
    "driver = webdriver.Chrome(service=s)\n",
    "driver.get('https://www.smartprix.com/mobiles')\n",
    "time.sleep(5)\n",
    "driver.find_element(by = By.XPATH, value='/html/body/div[1]/main/aside/div/div[5]/div[2]/label[1]/input').click()\n",
    "time.sleep(1)\n",
    "driver.find_element(by = By.XPATH,value='/html/body/div[1]/main/aside/div/div[5]/div[2]/label[2]/input').click()\n",
    "time.sleep(2)\n",
    "\n",
    "old_height = driver.execute_script('return document.body.scrollHeight')\n",
    "while True:\n",
    "    driver.find_element(by=By.XPATH,value='//*[@id=\"app\"]/main/div[1]/div[2]/div[3]').click()\n",
    "    time.sleep(1)\n",
    "    new_height = driver.execute_script('return document.body.scrollHeight')\n",
    "    print(new_height)\n",
    "    print(old_height)\n",
    "    if new_height == old_height:\n",
    "        break\n",
    "\n",
    "    old_height = new_height\n",
    "\n",
    "html = driver.page_source\n",
    "\n",
    "with open(\"smartprix.html\",'w',encoding='utf-8') as f:\n",
    "    f.write(html)"
   ]
  },
  {
   "cell_type": "code",
   "execution_count": null,
   "metadata": {},
   "outputs": [],
   "source": []
  },
  {
   "cell_type": "markdown",
   "metadata": {},
   "source": [
    "driver.find_element\n",
    "\n",
    "\n",
    "/html/body/div[1]/main/div[1]/div[2]/div[3]"
   ]
  },
  {
   "cell_type": "code",
   "execution_count": null,
   "metadata": {},
   "outputs": [],
   "source": []
  }
 ],
 "metadata": {
  "kernelspec": {
   "display_name": "Python 3",
   "language": "python",
   "name": "python3"
  },
  "language_info": {
   "codemirror_mode": {
    "name": "ipython",
    "version": 3
   },
   "file_extension": ".py",
   "mimetype": "text/x-python",
   "name": "python",
   "nbconvert_exporter": "python",
   "pygments_lexer": "ipython3",
   "version": "3.12.2"
  }
 },
 "nbformat": 4,
 "nbformat_minor": 2
}
