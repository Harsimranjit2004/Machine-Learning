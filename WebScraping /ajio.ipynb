{
 "cells": [
  {
   "cell_type": "code",
   "execution_count": 6,
   "metadata": {},
   "outputs": [],
   "source": [
    "from selenium import webdriver\n",
    "from selenium.webdriver.chrome.service import Service\n",
    "from webdriver_manager.chrome import ChromeDriverManager\n",
    "from selenium.common.exceptions import WebDriverException\n",
    "from selenium.webdriver.common.by import By\n",
    "from selenium.webdriver.common.keys import Keys\n",
    "\n",
    "import time"
   ]
  },
  {
   "cell_type": "code",
   "execution_count": 9,
   "metadata": {},
   "outputs": [
    {
     "name": "stdout",
     "output_type": "stream",
     "text": [
      "9933\n",
      "1\n",
      "18493\n",
      "18493\n",
      "2\n",
      "34543\n",
      "34543\n",
      "3\n",
      "42568\n",
      "42568\n",
      "4\n",
      "50593\n",
      "50593\n",
      "5\n",
      "58618\n",
      "58618\n",
      "6\n",
      "66643\n",
      "66643\n",
      "7\n",
      "74668\n",
      "74668\n",
      "8\n",
      "82693\n",
      "82693\n",
      "9\n",
      "98743\n",
      "98743\n",
      "10\n",
      "106768\n",
      "106768\n",
      "11\n",
      "114793\n",
      "114793\n",
      "12\n",
      "130843\n",
      "130843\n",
      "13\n",
      "154918\n",
      "154918\n",
      "14\n",
      "170968\n",
      "170968\n",
      "15\n",
      "195043\n",
      "195043\n",
      "16\n",
      "195043\n"
     ]
    }
   ],
   "source": [
    "\n",
    "s = Service()\n",
    "\n",
    "driver = webdriver.Chrome(service=s)\n",
    "driver.get('https://www.ajio.com/men-backpacks/c/830201001')\n",
    "count =1\n",
    "old_height = driver.execute_script('return document.body.scrollHeight')\n",
    "while True:\n",
    "    \n",
    "    print(old_height)\n",
    "    print(count)\n",
    "    driver.execute_script('window.scrollTo(0,document.body.scrollHeight)')\n",
    "    time.sleep(2)\n",
    "    new_heigth  = driver.execute_script('return document.body.scrollHeight')\n",
    "    print(new_heigth)\n",
    "    count = count+1\n",
    "    if new_heigth == old_height:\n",
    "        break\n",
    "    old_height = new_heigth\n",
    "\n",
    "html = driver.page_source\n",
    "with open('ajio.html', 'w', encoding='utf-8') as f:\n",
    "    f.write(html)\n"
   ]
  },
  {
   "cell_type": "code",
   "execution_count": null,
   "metadata": {},
   "outputs": [],
   "source": []
  },
  {
   "cell_type": "code",
   "execution_count": null,
   "metadata": {},
   "outputs": [
    {
     "ename": "",
     "evalue": "",
     "output_type": "error",
     "traceback": [
      "\u001b[1;31mThe Kernel crashed while executing code in the the current cell or a previous cell. Please review the code in the cell(s) to identify a possible cause of the failure. Click <a href='https://aka.ms/vscodeJupyterKernelCrash'>here</a> for more info. View Jupyter <a href='command:jupyter.viewOutput'>log</a> for further details."
     ]
    }
   ],
   "source": []
  },
  {
   "cell_type": "code",
   "execution_count": null,
   "metadata": {},
   "outputs": [
    {
     "ename": "KeyboardInterrupt",
     "evalue": "",
     "output_type": "error",
     "traceback": [
      "\u001b[0;31m---------------------------------------------------------------------------\u001b[0m",
      "\u001b[0;31mKeyboardInterrupt\u001b[0m                         Traceback (most recent call last)",
      "\u001b[1;32m/Users/harsimranjitsingh/Desktop/machine_learning/WebScraping /ajio.ipynb Cell 4\u001b[0m line \u001b[0;36m2\n\u001b[1;32m     <a href='vscode-notebook-cell:/Users/harsimranjitsingh/Desktop/machine_learning/WebScraping%20/ajio.ipynb#W3sZmlsZQ%3D%3D?line=21'>22</a>\u001b[0m matrix_size \u001b[39m=\u001b[39m \u001b[39m10000\u001b[39m\n\u001b[1;32m     <a href='vscode-notebook-cell:/Users/harsimranjitsingh/Desktop/machine_learning/WebScraping%20/ajio.ipynb#W3sZmlsZQ%3D%3D?line=24'>25</a>\u001b[0m \u001b[39m# Run the test\u001b[39;00m\n\u001b[0;32m---> <a href='vscode-notebook-cell:/Users/harsimranjitsingh/Desktop/machine_learning/WebScraping%20/ajio.ipynb#W3sZmlsZQ%3D%3D?line=25'>26</a>\u001b[0m test_matrix_inversion_speed(matrix_size)\n",
      "\u001b[1;32m/Users/harsimranjitsingh/Desktop/machine_learning/WebScraping /ajio.ipynb Cell 4\u001b[0m line \u001b[0;36m6\n\u001b[1;32m      <a href='vscode-notebook-cell:/Users/harsimranjitsingh/Desktop/machine_learning/WebScraping%20/ajio.ipynb#W3sZmlsZQ%3D%3D?line=3'>4</a>\u001b[0m \u001b[39mdef\u001b[39;00m \u001b[39mtest_matrix_inversion_speed\u001b[39m(matrix_size):\n\u001b[1;32m      <a href='vscode-notebook-cell:/Users/harsimranjitsingh/Desktop/machine_learning/WebScraping%20/ajio.ipynb#W3sZmlsZQ%3D%3D?line=4'>5</a>\u001b[0m     \u001b[39m# Generate a random square matrix of size matrix_size\u001b[39;00m\n\u001b[0;32m----> <a href='vscode-notebook-cell:/Users/harsimranjitsingh/Desktop/machine_learning/WebScraping%20/ajio.ipynb#W3sZmlsZQ%3D%3D?line=5'>6</a>\u001b[0m     matrix \u001b[39m=\u001b[39m np\u001b[39m.\u001b[39mrandom\u001b[39m.\u001b[39mrand(matrix_size, matrix_size)\n\u001b[1;32m      <a href='vscode-notebook-cell:/Users/harsimranjitsingh/Desktop/machine_learning/WebScraping%20/ajio.ipynb#W3sZmlsZQ%3D%3D?line=7'>8</a>\u001b[0m     \u001b[39m# Measure the time taken to invert the matrix\u001b[39;00m\n\u001b[1;32m      <a href='vscode-notebook-cell:/Users/harsimranjitsingh/Desktop/machine_learning/WebScraping%20/ajio.ipynb#W3sZmlsZQ%3D%3D?line=8'>9</a>\u001b[0m     start_time \u001b[39m=\u001b[39m time\u001b[39m.\u001b[39mtime()\n",
      "File \u001b[0;32m_pydevd_bundle/pydevd_cython.pyx:1457\u001b[0m, in \u001b[0;36m_pydevd_bundle.pydevd_cython.SafeCallWrapper.__call__\u001b[0;34m()\u001b[0m\n",
      "File \u001b[0;32m_pydevd_bundle/pydevd_cython.pyx:701\u001b[0m, in \u001b[0;36m_pydevd_bundle.pydevd_cython.PyDBFrame.trace_dispatch\u001b[0;34m()\u001b[0m\n",
      "File \u001b[0;32m_pydevd_bundle/pydevd_cython.pyx:1152\u001b[0m, in \u001b[0;36m_pydevd_bundle.pydevd_cython.PyDBFrame.trace_dispatch\u001b[0;34m()\u001b[0m\n",
      "File \u001b[0;32m_pydevd_bundle/pydevd_cython.pyx:1135\u001b[0m, in \u001b[0;36m_pydevd_bundle.pydevd_cython.PyDBFrame.trace_dispatch\u001b[0;34m()\u001b[0m\n",
      "File \u001b[0;32m_pydevd_bundle/pydevd_cython.pyx:312\u001b[0m, in \u001b[0;36m_pydevd_bundle.pydevd_cython.PyDBFrame.do_wait_suspend\u001b[0;34m()\u001b[0m\n",
      "File \u001b[0;32m~/Library/Python/3.11/lib/python/site-packages/debugpy/_vendored/pydevd/pydevd.py:2070\u001b[0m, in \u001b[0;36mPyDB.do_wait_suspend\u001b[0;34m(self, thread, frame, event, arg, exception_type)\u001b[0m\n\u001b[1;32m   2067\u001b[0m             from_this_thread\u001b[39m.\u001b[39mappend(frame_custom_thread_id)\n\u001b[1;32m   2069\u001b[0m     \u001b[39mwith\u001b[39;00m \u001b[39mself\u001b[39m\u001b[39m.\u001b[39m_threads_suspended_single_notification\u001b[39m.\u001b[39mnotify_thread_suspended(thread_id, thread, stop_reason):\n\u001b[0;32m-> 2070\u001b[0m         keep_suspended \u001b[39m=\u001b[39m \u001b[39mself\u001b[39;49m\u001b[39m.\u001b[39;49m_do_wait_suspend(thread, frame, event, arg, suspend_type, from_this_thread, frames_tracker)\n\u001b[1;32m   2072\u001b[0m frames_list \u001b[39m=\u001b[39m \u001b[39mNone\u001b[39;00m\n\u001b[1;32m   2074\u001b[0m \u001b[39mif\u001b[39;00m keep_suspended:\n\u001b[1;32m   2075\u001b[0m     \u001b[39m# This means that we should pause again after a set next statement.\u001b[39;00m\n",
      "File \u001b[0;32m~/Library/Python/3.11/lib/python/site-packages/debugpy/_vendored/pydevd/pydevd.py:2106\u001b[0m, in \u001b[0;36mPyDB._do_wait_suspend\u001b[0;34m(self, thread, frame, event, arg, suspend_type, from_this_thread, frames_tracker)\u001b[0m\n\u001b[1;32m   2103\u001b[0m         \u001b[39mself\u001b[39m\u001b[39m.\u001b[39m_call_input_hook()\n\u001b[1;32m   2105\u001b[0m     \u001b[39mself\u001b[39m\u001b[39m.\u001b[39mprocess_internal_commands()\n\u001b[0;32m-> 2106\u001b[0m     time\u001b[39m.\u001b[39msleep(\u001b[39m0.01\u001b[39m)\n\u001b[1;32m   2108\u001b[0m \u001b[39mself\u001b[39m\u001b[39m.\u001b[39mcancel_async_evaluation(get_current_thread_id(thread), \u001b[39mstr\u001b[39m(\u001b[39mid\u001b[39m(frame)))\n\u001b[1;32m   2110\u001b[0m \u001b[39m# process any stepping instructions\u001b[39;00m\n",
      "\u001b[0;31mKeyboardInterrupt\u001b[0m: "
     ]
    }
   ],
   "source": [
    "import numpy as np\n",
    "import time\n",
    "\n",
    "def test_matrix_inversion_speed(matrix_size):\n",
    "    # Generate a random square matrix of size matrix_size\n",
    "    matrix = np.random.rand(matrix_size, matrix_size)\n",
    "\n",
    "    # Measure the time taken to invert the matrix\n",
    "    start_time = time.time()\n",
    "    inverted_matrix = np.linalg.inv(matrix)\n",
    "    end_time = time.time()\n",
    "\n",
    "    # Calculate the time tak\n",
    "    \n",
    "    \n",
    "    \n",
    "    elapsed_time = end_time - start_time\n",
    "\n",
    "    print(f\"Inversion of {matrix_size}x{matrix_size} matrix took {elapsed_time:.6f} seconds\")\n",
    "\n",
    "# Set the matrix size (adjust as needed)``\n",
    "matrix_size = 10000\n",
    "\n",
    "\n",
    "# Run the test\n",
    "test_matrix_inversion_speed(matrix_size)\n"
   ]
  }
 ],
 "metadata": {
  "kernelspec": {
   "display_name": "Python 3",
   "language": "python",
   "name": "python3"
  },
  "language_info": {
   "codemirror_mode": {
    "name": "ipython",
    "version": 3
   },
   "file_extension": ".py",
   "mimetype": "text/x-python",
   "name": "python",
   "nbconvert_exporter": "python",
   "pygments_lexer": "ipython3",
   "version": "3.11.7"
  }
 },
 "nbformat": 4,
 "nbformat_minor": 2
}
