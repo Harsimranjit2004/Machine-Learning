{
 "cells": [
  {
   "cell_type": "code",
   "execution_count": 3,
   "metadata": {},
   "outputs": [],
   "source": [
    "from selenium import webdriver\n",
    "from selenium.webdriver.chrome.service import Service\n",
    "from webdriver_manager.chrome import ChromeDriverManager\n",
    "from selenium.common.exceptions import WebDriverException\n",
    "from selenium.webdriver.common.by import By\n",
    "from selenium.webdriver.common.keys import Keys\n",
    "import time"
   ]
  },
  {
   "cell_type": "code",
   "execution_count": 2,
   "metadata": {},
   "outputs": [
    {
     "ename": "NoSuchWindowException",
     "evalue": "Message: no such window: target window already closed\nfrom unknown error: web view not found\n  (Session info: chrome=120.0.6099.234)\nStacktrace:\n0   chromedriver                        0x0000000100d084dc chromedriver + 4162780\n1   chromedriver                        0x0000000100d00664 chromedriver + 4130404\n2   chromedriver                        0x0000000100957bc0 chromedriver + 293824\n3   chromedriver                        0x00000001009306c0 chromedriver + 132800\n4   chromedriver                        0x00000001009c925c chromedriver + 758364\n5   chromedriver                        0x00000001009dd294 chromedriver + 840340\n6   chromedriver                        0x00000001009916bc chromedriver + 530108\n7   chromedriver                        0x0000000100992930 chromedriver + 534832\n8   chromedriver                        0x0000000100ccde08 chromedriver + 3923464\n9   chromedriver                        0x0000000100cd23dc chromedriver + 3941340\n10  chromedriver                        0x0000000100cb6038 chromedriver + 3825720\n11  chromedriver                        0x0000000100cd2f3c chromedriver + 3944252\n12  chromedriver                        0x0000000100ca86f4 chromedriver + 3770100\n13  chromedriver                        0x0000000100cef980 chromedriver + 4061568\n14  chromedriver                        0x0000000100cefaf8 chromedriver + 4061944\n15  chromedriver                        0x0000000100d002e4 chromedriver + 4129508\n16  libsystem_pthread.dylib             0x000000018d516034 _pthread_start + 136\n17  libsystem_pthread.dylib             0x000000018d510e3c thread_start + 8\n",
     "output_type": "error",
     "traceback": [
      "\u001b[0;31m---------------------------------------------------------------------------\u001b[0m",
      "\u001b[0;31mNoSuchWindowException\u001b[0m                     Traceback (most recent call last)",
      "\u001b[1;32m/Users/harsimranjitsingh/Desktop/machine_learning/WebScraping /ajio.ipynb Cell 2\u001b[0m line \u001b[0;36m5\n\u001b[1;32m      <a href='vscode-notebook-cell:/Users/harsimranjitsingh/Desktop/machine_learning/WebScraping%20/ajio.ipynb#W1sZmlsZQ%3D%3D?line=2'>3</a>\u001b[0m driver\u001b[39m.\u001b[39mget(\u001b[39m'\u001b[39m\u001b[39mhttps://www.ajio.com/men-backpacks/c/830201001\u001b[39m\u001b[39m'\u001b[39m)\n\u001b[1;32m      <a href='vscode-notebook-cell:/Users/harsimranjitsingh/Desktop/machine_learning/WebScraping%20/ajio.ipynb#W1sZmlsZQ%3D%3D?line=3'>4</a>\u001b[0m count \u001b[39m=\u001b[39m\u001b[39m1\u001b[39m\n\u001b[0;32m----> <a href='vscode-notebook-cell:/Users/harsimranjitsingh/Desktop/machine_learning/WebScraping%20/ajio.ipynb#W1sZmlsZQ%3D%3D?line=4'>5</a>\u001b[0m old_height \u001b[39m=\u001b[39m driver\u001b[39m.\u001b[39;49mexecute_script(\u001b[39m'\u001b[39;49m\u001b[39mreturn document.body.scrollHeight\u001b[39;49m\u001b[39m'\u001b[39;49m)\n\u001b[1;32m      <a href='vscode-notebook-cell:/Users/harsimranjitsingh/Desktop/machine_learning/WebScraping%20/ajio.ipynb#W1sZmlsZQ%3D%3D?line=5'>6</a>\u001b[0m \u001b[39mwhile\u001b[39;00m \u001b[39mTrue\u001b[39;00m:\n\u001b[1;32m      <a href='vscode-notebook-cell:/Users/harsimranjitsingh/Desktop/machine_learning/WebScraping%20/ajio.ipynb#W1sZmlsZQ%3D%3D?line=7'>8</a>\u001b[0m     \u001b[39mprint\u001b[39m(old_height)\n",
      "File \u001b[0;32m/opt/homebrew/lib/python3.11/site-packages/selenium/webdriver/remote/webdriver.py:408\u001b[0m, in \u001b[0;36mWebDriver.execute_script\u001b[0;34m(self, script, *args)\u001b[0m\n\u001b[1;32m    405\u001b[0m converted_args \u001b[39m=\u001b[39m \u001b[39mlist\u001b[39m(args)\n\u001b[1;32m    406\u001b[0m command \u001b[39m=\u001b[39m Command\u001b[39m.\u001b[39mW3C_EXECUTE_SCRIPT\n\u001b[0;32m--> 408\u001b[0m \u001b[39mreturn\u001b[39;00m \u001b[39mself\u001b[39;49m\u001b[39m.\u001b[39;49mexecute(command, {\u001b[39m\"\u001b[39;49m\u001b[39mscript\u001b[39;49m\u001b[39m\"\u001b[39;49m: script, \u001b[39m\"\u001b[39;49m\u001b[39margs\u001b[39;49m\u001b[39m\"\u001b[39;49m: converted_args})[\u001b[39m\"\u001b[39m\u001b[39mvalue\u001b[39m\u001b[39m\"\u001b[39m]\n",
      "File \u001b[0;32m/opt/homebrew/lib/python3.11/site-packages/selenium/webdriver/remote/webdriver.py:348\u001b[0m, in \u001b[0;36mWebDriver.execute\u001b[0;34m(self, driver_command, params)\u001b[0m\n\u001b[1;32m    346\u001b[0m response \u001b[39m=\u001b[39m \u001b[39mself\u001b[39m\u001b[39m.\u001b[39mcommand_executor\u001b[39m.\u001b[39mexecute(driver_command, params)\n\u001b[1;32m    347\u001b[0m \u001b[39mif\u001b[39;00m response:\n\u001b[0;32m--> 348\u001b[0m     \u001b[39mself\u001b[39;49m\u001b[39m.\u001b[39;49merror_handler\u001b[39m.\u001b[39;49mcheck_response(response)\n\u001b[1;32m    349\u001b[0m     response[\u001b[39m\"\u001b[39m\u001b[39mvalue\u001b[39m\u001b[39m\"\u001b[39m] \u001b[39m=\u001b[39m \u001b[39mself\u001b[39m\u001b[39m.\u001b[39m_unwrap_value(response\u001b[39m.\u001b[39mget(\u001b[39m\"\u001b[39m\u001b[39mvalue\u001b[39m\u001b[39m\"\u001b[39m, \u001b[39mNone\u001b[39;00m))\n\u001b[1;32m    350\u001b[0m     \u001b[39mreturn\u001b[39;00m response\n",
      "File \u001b[0;32m/opt/homebrew/lib/python3.11/site-packages/selenium/webdriver/remote/errorhandler.py:229\u001b[0m, in \u001b[0;36mErrorHandler.check_response\u001b[0;34m(self, response)\u001b[0m\n\u001b[1;32m    227\u001b[0m         alert_text \u001b[39m=\u001b[39m value[\u001b[39m\"\u001b[39m\u001b[39malert\u001b[39m\u001b[39m\"\u001b[39m]\u001b[39m.\u001b[39mget(\u001b[39m\"\u001b[39m\u001b[39mtext\u001b[39m\u001b[39m\"\u001b[39m)\n\u001b[1;32m    228\u001b[0m     \u001b[39mraise\u001b[39;00m exception_class(message, screen, stacktrace, alert_text)  \u001b[39m# type: ignore[call-arg]  # mypy is not smart enough here\u001b[39;00m\n\u001b[0;32m--> 229\u001b[0m \u001b[39mraise\u001b[39;00m exception_class(message, screen, stacktrace)\n",
      "\u001b[0;31mNoSuchWindowException\u001b[0m: Message: no such window: target window already closed\nfrom unknown error: web view not found\n  (Session info: chrome=120.0.6099.234)\nStacktrace:\n0   chromedriver                        0x0000000100d084dc chromedriver + 4162780\n1   chromedriver                        0x0000000100d00664 chromedriver + 4130404\n2   chromedriver                        0x0000000100957bc0 chromedriver + 293824\n3   chromedriver                        0x00000001009306c0 chromedriver + 132800\n4   chromedriver                        0x00000001009c925c chromedriver + 758364\n5   chromedriver                        0x00000001009dd294 chromedriver + 840340\n6   chromedriver                        0x00000001009916bc chromedriver + 530108\n7   chromedriver                        0x0000000100992930 chromedriver + 534832\n8   chromedriver                        0x0000000100ccde08 chromedriver + 3923464\n9   chromedriver                        0x0000000100cd23dc chromedriver + 3941340\n10  chromedriver                        0x0000000100cb6038 chromedriver + 3825720\n11  chromedriver                        0x0000000100cd2f3c chromedriver + 3944252\n12  chromedriver                        0x0000000100ca86f4 chromedriver + 3770100\n13  chromedriver                        0x0000000100cef980 chromedriver + 4061568\n14  chromedriver                        0x0000000100cefaf8 chromedriver + 4061944\n15  chromedriver                        0x0000000100d002e4 chromedriver + 4129508\n16  libsystem_pthread.dylib             0x000000018d516034 _pthread_start + 136\n17  libsystem_pthread.dylib             0x000000018d510e3c thread_start + 8\n"
     ]
    }
   ],
   "source": [
    "\n",
    "s = Service(ChromeDriverManager().install())\n",
    "driver = webdriver.Chrome(service=s)\n",
    "driver.get('https://www.ajio.com/men-backpacks/c/830201001')\n",
    "count =1\n",
    "old_height = driver.execute_script('return document.body.scrollHeight')\n",
    "while True:\n",
    "    \n",
    "    print(old_height)\n",
    "    print(count)\n",
    "    driver.execute_script('window.scrollTo(0,document.body.scrollHeight)')\n",
    "    time.sleep(2)\n",
    "    new_heigth  = driver.execute_script('return document.body.scrollHeight')\n",
    "    print(new_heigth)\n",
    "    count = count+1\n",
    "    if new_heigth == old_height:\n",
    "        break\n",
    "    old_height = new_heigth\n",
    "\n"
   ]
  },
  {
   "cell_type": "code",
   "execution_count": null,
   "metadata": {},
   "outputs": [
    {
     "ename": "",
     "evalue": "",
     "output_type": "error",
     "traceback": [
      "\u001b[1;31mThe Kernel crashed while executing code in the the current cell or a previous cell. Please review the code in the cell(s) to identify a possible cause of the failure. Click <a href='https://aka.ms/vscodeJupyterKernelCrash'>here</a> for more info. View Jupyter <a href='command:jupyter.viewOutput'>log</a> for further details."
     ]
    }
   ],
   "source": []
  },
  {
   "cell_type": "code",
   "execution_count": 4,
   "metadata": {},
   "outputs": [
    {
     "ename": "KeyboardInterrupt",
     "evalue": "",
     "output_type": "error",
     "traceback": [
      "\u001b[0;31m---------------------------------------------------------------------------\u001b[0m",
      "\u001b[0;31mKeyboardInterrupt\u001b[0m                         Traceback (most recent call last)",
      "\u001b[1;32m/Users/harsimranjitsingh/Desktop/machine_learning/WebScraping /ajio.ipynb Cell 4\u001b[0m line \u001b[0;36m2\n\u001b[1;32m     <a href='vscode-notebook-cell:/Users/harsimranjitsingh/Desktop/machine_learning/WebScraping%20/ajio.ipynb#W3sZmlsZQ%3D%3D?line=21'>22</a>\u001b[0m matrix_size \u001b[39m=\u001b[39m \u001b[39m10000\u001b[39m\n\u001b[1;32m     <a href='vscode-notebook-cell:/Users/harsimranjitsingh/Desktop/machine_learning/WebScraping%20/ajio.ipynb#W3sZmlsZQ%3D%3D?line=24'>25</a>\u001b[0m \u001b[39m# Run the test\u001b[39;00m\n\u001b[0;32m---> <a href='vscode-notebook-cell:/Users/harsimranjitsingh/Desktop/machine_learning/WebScraping%20/ajio.ipynb#W3sZmlsZQ%3D%3D?line=25'>26</a>\u001b[0m test_matrix_inversion_speed(matrix_size)\n",
      "\u001b[1;32m/Users/harsimranjitsingh/Desktop/machine_learning/WebScraping /ajio.ipynb Cell 4\u001b[0m line \u001b[0;36m6\n\u001b[1;32m      <a href='vscode-notebook-cell:/Users/harsimranjitsingh/Desktop/machine_learning/WebScraping%20/ajio.ipynb#W3sZmlsZQ%3D%3D?line=3'>4</a>\u001b[0m \u001b[39mdef\u001b[39;00m \u001b[39mtest_matrix_inversion_speed\u001b[39m(matrix_size):\n\u001b[1;32m      <a href='vscode-notebook-cell:/Users/harsimranjitsingh/Desktop/machine_learning/WebScraping%20/ajio.ipynb#W3sZmlsZQ%3D%3D?line=4'>5</a>\u001b[0m     \u001b[39m# Generate a random square matrix of size matrix_size\u001b[39;00m\n\u001b[0;32m----> <a href='vscode-notebook-cell:/Users/harsimranjitsingh/Desktop/machine_learning/WebScraping%20/ajio.ipynb#W3sZmlsZQ%3D%3D?line=5'>6</a>\u001b[0m     matrix \u001b[39m=\u001b[39m np\u001b[39m.\u001b[39mrandom\u001b[39m.\u001b[39mrand(matrix_size, matrix_size)\n\u001b[1;32m      <a href='vscode-notebook-cell:/Users/harsimranjitsingh/Desktop/machine_learning/WebScraping%20/ajio.ipynb#W3sZmlsZQ%3D%3D?line=7'>8</a>\u001b[0m     \u001b[39m# Measure the time taken to invert the matrix\u001b[39;00m\n\u001b[1;32m      <a href='vscode-notebook-cell:/Users/harsimranjitsingh/Desktop/machine_learning/WebScraping%20/ajio.ipynb#W3sZmlsZQ%3D%3D?line=8'>9</a>\u001b[0m     start_time \u001b[39m=\u001b[39m time\u001b[39m.\u001b[39mtime()\n",
      "File \u001b[0;32m_pydevd_bundle/pydevd_cython.pyx:1457\u001b[0m, in \u001b[0;36m_pydevd_bundle.pydevd_cython.SafeCallWrapper.__call__\u001b[0;34m()\u001b[0m\n",
      "File \u001b[0;32m_pydevd_bundle/pydevd_cython.pyx:701\u001b[0m, in \u001b[0;36m_pydevd_bundle.pydevd_cython.PyDBFrame.trace_dispatch\u001b[0;34m()\u001b[0m\n",
      "File \u001b[0;32m_pydevd_bundle/pydevd_cython.pyx:1152\u001b[0m, in \u001b[0;36m_pydevd_bundle.pydevd_cython.PyDBFrame.trace_dispatch\u001b[0;34m()\u001b[0m\n",
      "File \u001b[0;32m_pydevd_bundle/pydevd_cython.pyx:1135\u001b[0m, in \u001b[0;36m_pydevd_bundle.pydevd_cython.PyDBFrame.trace_dispatch\u001b[0;34m()\u001b[0m\n",
      "File \u001b[0;32m_pydevd_bundle/pydevd_cython.pyx:312\u001b[0m, in \u001b[0;36m_pydevd_bundle.pydevd_cython.PyDBFrame.do_wait_suspend\u001b[0;34m()\u001b[0m\n",
      "File \u001b[0;32m~/Library/Python/3.11/lib/python/site-packages/debugpy/_vendored/pydevd/pydevd.py:2070\u001b[0m, in \u001b[0;36mPyDB.do_wait_suspend\u001b[0;34m(self, thread, frame, event, arg, exception_type)\u001b[0m\n\u001b[1;32m   2067\u001b[0m             from_this_thread\u001b[39m.\u001b[39mappend(frame_custom_thread_id)\n\u001b[1;32m   2069\u001b[0m     \u001b[39mwith\u001b[39;00m \u001b[39mself\u001b[39m\u001b[39m.\u001b[39m_threads_suspended_single_notification\u001b[39m.\u001b[39mnotify_thread_suspended(thread_id, thread, stop_reason):\n\u001b[0;32m-> 2070\u001b[0m         keep_suspended \u001b[39m=\u001b[39m \u001b[39mself\u001b[39;49m\u001b[39m.\u001b[39;49m_do_wait_suspend(thread, frame, event, arg, suspend_type, from_this_thread, frames_tracker)\n\u001b[1;32m   2072\u001b[0m frames_list \u001b[39m=\u001b[39m \u001b[39mNone\u001b[39;00m\n\u001b[1;32m   2074\u001b[0m \u001b[39mif\u001b[39;00m keep_suspended:\n\u001b[1;32m   2075\u001b[0m     \u001b[39m# This means that we should pause again after a set next statement.\u001b[39;00m\n",
      "File \u001b[0;32m~/Library/Python/3.11/lib/python/site-packages/debugpy/_vendored/pydevd/pydevd.py:2106\u001b[0m, in \u001b[0;36mPyDB._do_wait_suspend\u001b[0;34m(self, thread, frame, event, arg, suspend_type, from_this_thread, frames_tracker)\u001b[0m\n\u001b[1;32m   2103\u001b[0m         \u001b[39mself\u001b[39m\u001b[39m.\u001b[39m_call_input_hook()\n\u001b[1;32m   2105\u001b[0m     \u001b[39mself\u001b[39m\u001b[39m.\u001b[39mprocess_internal_commands()\n\u001b[0;32m-> 2106\u001b[0m     time\u001b[39m.\u001b[39msleep(\u001b[39m0.01\u001b[39m)\n\u001b[1;32m   2108\u001b[0m \u001b[39mself\u001b[39m\u001b[39m.\u001b[39mcancel_async_evaluation(get_current_thread_id(thread), \u001b[39mstr\u001b[39m(\u001b[39mid\u001b[39m(frame)))\n\u001b[1;32m   2110\u001b[0m \u001b[39m# process any stepping instructions\u001b[39;00m\n",
      "\u001b[0;31mKeyboardInterrupt\u001b[0m: "
     ]
    }
   ],
   "source": [
    "import numpy as np\n",
    "import time\n",
    "\n",
    "def test_matrix_inversion_speed(matrix_size):\n",
    "    # Generate a random square matrix of size matrix_size\n",
    "    matrix = np.random.rand(matrix_size, matrix_size)\n",
    "\n",
    "    # Measure the time taken to invert the matrix\n",
    "    start_time = time.time()\n",
    "    inverted_matrix = np.linalg.inv(matrix)\n",
    "    end_time = time.time()\n",
    "\n",
    "    # Calculate the time tak\n",
    "    \n",
    "    \n",
    "    \n",
    "    elapsed_time = end_time - start_time\n",
    "\n",
    "    print(f\"Inversion of {matrix_size}x{matrix_size} matrix took {elapsed_time:.6f} seconds\")\n",
    "\n",
    "# Set the matrix size (adjust as needed)``\n",
    "matrix_size = 10000\n",
    "\n",
    "\n",
    "# Run the test\n",
    "test_matrix_inversion_speed(matrix_size)\n"
   ]
  }
 ],
 "metadata": {
  "kernelspec": {
   "display_name": "Python 3",
   "language": "python",
   "name": "python3"
  },
  "language_info": {
   "codemirror_mode": {
    "name": "ipython",
    "version": 3
   },
   "file_extension": ".py",
   "mimetype": "text/x-python",
   "name": "python",
   "nbconvert_exporter": "python",
   "pygments_lexer": "ipython3",
   "version": "3.11.7"
  }
 },
 "nbformat": 4,
 "nbformat_minor": 2
}
