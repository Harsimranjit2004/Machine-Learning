{
 "cells": [
  {
   "cell_type": "code",
   "execution_count": 2,
   "metadata": {},
   "outputs": [],
   "source": [
    "#create a series form a list , numpy and dict\n",
    "\n",
    "import numpy as np\n",
    "import pandas as pd\n",
    "a_list = list(\"abcd\")\n",
    "numpy = np.arange(1,10)\n",
    "dictionary  = {\"a\":0, \"b\":1}\n",
    "\n",
    "\n",
    "series1  = pd.Series(a_list)\n",
    "series2 = pd.Series(numpy)\n",
    "series3 = pd.Series(dictionary)\n",
    "\n",
    "\n",
    "\n"
   ]
  },
  {
   "cell_type": "code",
   "execution_count": null,
   "metadata": {},
   "outputs": [],
   "source": []
  },
  {
   "cell_type": "code",
   "execution_count": 9,
   "metadata": {},
   "outputs": [
    {
     "data": {
      "text/html": [
       "<div>\n",
       "<style scoped>\n",
       "    .dataframe tbody tr th:only-of-type {\n",
       "        vertical-align: middle;\n",
       "    }\n",
       "\n",
       "    .dataframe tbody tr th {\n",
       "        vertical-align: top;\n",
       "    }\n",
       "\n",
       "    .dataframe thead th {\n",
       "        text-align: right;\n",
       "    }\n",
       "</style>\n",
       "<table border=\"1\" class=\"dataframe\">\n",
       "  <thead>\n",
       "    <tr style=\"text-align: right;\">\n",
       "      <th></th>\n",
       "      <th>col1</th>\n",
       "      <th>col2</th>\n",
       "    </tr>\n",
       "  </thead>\n",
       "  <tbody>\n",
       "    <tr>\n",
       "      <th>0</th>\n",
       "      <td>a</td>\n",
       "      <td>1</td>\n",
       "    </tr>\n",
       "    <tr>\n",
       "      <th>1</th>\n",
       "      <td>b</td>\n",
       "      <td>2</td>\n",
       "    </tr>\n",
       "    <tr>\n",
       "      <th>2</th>\n",
       "      <td>c</td>\n",
       "      <td>3</td>\n",
       "    </tr>\n",
       "    <tr>\n",
       "      <th>3</th>\n",
       "      <td>d</td>\n",
       "      <td>4</td>\n",
       "    </tr>\n",
       "    <tr>\n",
       "      <th>4</th>\n",
       "      <td>NaN</td>\n",
       "      <td>5</td>\n",
       "    </tr>\n",
       "    <tr>\n",
       "      <th>5</th>\n",
       "      <td>NaN</td>\n",
       "      <td>6</td>\n",
       "    </tr>\n",
       "    <tr>\n",
       "      <th>6</th>\n",
       "      <td>NaN</td>\n",
       "      <td>7</td>\n",
       "    </tr>\n",
       "    <tr>\n",
       "      <th>7</th>\n",
       "      <td>NaN</td>\n",
       "      <td>8</td>\n",
       "    </tr>\n",
       "    <tr>\n",
       "      <th>8</th>\n",
       "      <td>NaN</td>\n",
       "      <td>9</td>\n",
       "    </tr>\n",
       "  </tbody>\n",
       "</table>\n",
       "</div>"
      ],
      "text/plain": [
       "  col1  col2\n",
       "0    a     1\n",
       "1    b     2\n",
       "2    c     3\n",
       "3    d     4\n",
       "4  NaN     5\n",
       "5  NaN     6\n",
       "6  NaN     7\n",
       "7  NaN     8\n",
       "8  NaN     9"
      ]
     },
     "execution_count": 9,
     "metadata": {},
     "output_type": "execute_result"
    }
   ],
   "source": [
    "# combine series\n",
    "com = pd.DataFrame(series1,series2).reset_index()\n",
    "com1 = pd.DataFrame({\"col1\":series1,\"col2\":series2})\n",
    "com1"
   ]
  },
  {
   "cell_type": "code",
   "execution_count": 14,
   "metadata": {},
   "outputs": [
    {
     "data": {
      "text/plain": [
       "0    a\n",
       "1    b\n",
       "2    c\n",
       "3    d\n",
       "0    1\n",
       "1    2\n",
       "2    3\n",
       "3    4\n",
       "4    5\n",
       "5    6\n",
       "6    7\n",
       "7    8\n",
       "8    9\n",
       "dtype: object"
      ]
     },
     "execution_count": 14,
     "metadata": {},
     "output_type": "execute_result"
    }
   ],
   "source": [
    "# axis  = 1 vs axis = 0 : 1 for column \n",
    "ser  = pd.concat([series1,series2], axis =  0)\n",
    "ser\n",
    "# axis 0 add vertically axis = 1 horizontally"
   ]
  },
  {
   "cell_type": "code",
   "execution_count": 16,
   "metadata": {},
   "outputs": [
    {
     "data": {
      "text/plain": [
       "array([1, 2])"
      ]
     },
     "execution_count": 16,
     "metadata": {},
     "output_type": "execute_result"
    }
   ],
   "source": [
    "# get not present in other \n",
    "ser1 = pd.Series([1,2,3,4,6])\n",
    "ser2 = pd.Series([3,4,5,6])\n",
    "\n",
    "ser1[~ser1.isin(ser2)].values\n",
    "# ~ bitwise not n\n",
    "\n"
   ]
  },
  {
   "cell_type": "code",
   "execution_count": 1,
   "metadata": {},
   "outputs": [
    {
     "ename": "NameError",
     "evalue": "name 'pd' is not defined",
     "output_type": "error",
     "traceback": [
      "\u001b[0;31m---------------------------------------------------------------------------\u001b[0m",
      "\u001b[0;31mNameError\u001b[0m                                 Traceback (most recent call last)",
      "\u001b[1;32m/Users/harsimranjitsingh/Desktop/machine_learning/pandas.ipynb Cell 5\u001b[0m line \u001b[0;36m2\n\u001b[1;32m      <a href='vscode-notebook-cell:/Users/harsimranjitsingh/Desktop/machine_learning/pandas.ipynb#W4sZmlsZQ%3D%3D?line=0'>1</a>\u001b[0m \u001b[39m# describe\u001b[39;00m\n\u001b[0;32m----> <a href='vscode-notebook-cell:/Users/harsimranjitsingh/Desktop/machine_learning/pandas.ipynb#W4sZmlsZQ%3D%3D?line=1'>2</a>\u001b[0m ser3 \u001b[39m=\u001b[39m pd\u001b[39m.\u001b[39mSeries([\u001b[39m1\u001b[39m,\u001b[39m23\u001b[39m,\u001b[39m4\u001b[39m,\u001b[39m43\u001b[39m,\u001b[39m3\u001b[39m])\n\u001b[1;32m      <a href='vscode-notebook-cell:/Users/harsimranjitsingh/Desktop/machine_learning/pandas.ipynb#W4sZmlsZQ%3D%3D?line=2'>3</a>\u001b[0m ser3\u001b[39m.\u001b[39mdescribe()\n\u001b[1;32m      <a href='vscode-notebook-cell:/Users/harsimranjitsingh/Desktop/machine_learning/pandas.ipynb#W4sZmlsZQ%3D%3D?line=4'>5</a>\u001b[0m \u001b[39m# frequency \u001b[39;00m\n",
      "\u001b[0;31mNameError\u001b[0m: name 'pd' is not defined"
     ]
    }
   ],
   "source": [
    "# describe\n",
    "ser3 = pd.Series([1,23,4,43,3])\n",
    "ser3.describe()\n",
    "\n",
    "# frequency \n",
    "\n",
    "ser3.value_counts()"
   ]
  }
 ],
 "metadata": {
  "kernelspec": {
   "display_name": "Python 3",
   "language": "python",
   "name": "python3"
  },
  "language_info": {
   "codemirror_mode": {
    "name": "ipython",
    "version": 3
   },
   "file_extension": ".py",
   "mimetype": "text/x-python",
   "name": "python",
   "nbconvert_exporter": "python",
   "pygments_lexer": "ipython3",
   "version": "3.12.2"
  }
 },
 "nbformat": 4,
 "nbformat_minor": 2
}
